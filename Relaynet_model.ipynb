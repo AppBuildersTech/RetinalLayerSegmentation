{
 "cells": [
  {
   "cell_type": "code",
   "execution_count": 1,
   "metadata": {},
   "outputs": [
    {
     "name": "stderr",
     "output_type": "stream",
     "text": [
      "Using TensorFlow backend.\n"
     ]
    }
   ],
   "source": [
    "import keras\n",
    "from keras.layers import Activation\n",
    "from keras.layers import Conv2D, MaxPooling2D\n",
    "from keras.models import Model\n",
    "from keras.layers import Input\n",
    "from keras.layers import BatchNormalization\n",
    "from keras.layers import UpSampling2D\n",
    "from keras.layers import Concatenate\n",
    "from keras.layers import Lambda \n",
    "from keras.layers import Reshape\n",
    "import tensorflow as tf\n",
    "\n",
    "\n",
    "\n",
    "from keras import backend as K\n",
    "from keras.preprocessing.image import ImageDataGenerator\n"
   ]
  },
  {
   "cell_type": "code",
   "execution_count": 2,
   "metadata": {
    "collapsed": true
   },
   "outputs": [],
   "source": [
    "import scipy.io as scio\n",
    "import numpy as np    \n",
    "import os\n",
    "import matplotlib.pyplot as plt\n",
    "from scipy.misc import imsave\n",
    "from scipy import ndimage, misc\n",
    "from numpy import unravel_index\n",
    "from operator import sub"
   ]
  },
  {
   "cell_type": "code",
   "execution_count": 3,
   "metadata": {
    "collapsed": true
   },
   "outputs": [],
   "source": [
    "images = []\n",
    "for root, dirnames, filenames in os.walk(\"Dataset/Train_images/\"):\n",
    "    for filename in filenames:\n",
    "        filepath = os.path.join(root, filename)\n",
    "        image = ndimage.imread(filepath, mode=\"L\")\n",
    "        images.append(image)"
   ]
  },
  {
   "cell_type": "code",
   "execution_count": 4,
   "metadata": {},
   "outputs": [
    {
     "name": "stdout",
     "output_type": "stream",
     "text": [
      "(496, 64)\n"
     ]
    }
   ],
   "source": [
    "print (images[0].shape)\n"
   ]
  },
  {
   "cell_type": "code",
   "execution_count": 5,
   "metadata": {
    "collapsed": true
   },
   "outputs": [],
   "source": [
    "labels = np.load('train_labels.npy')\n",
    "labels_list = []\n",
    "for i in range(len(labels)):\n",
    "    labels_list.append(labels[i])"
   ]
  },
  {
   "cell_type": "code",
   "execution_count": 6,
   "metadata": {},
   "outputs": [
    {
     "data": {
      "text/plain": [
       "(496, 64, 8)"
      ]
     },
     "execution_count": 6,
     "metadata": {},
     "output_type": "execute_result"
    }
   ],
   "source": [
    "labels_list[0].shape"
   ]
  },
  {
   "cell_type": "code",
   "execution_count": 7,
   "metadata": {},
   "outputs": [
    {
     "name": "stdout",
     "output_type": "stream",
     "text": [
      "770\n",
      "<type 'numpy.ndarray'>\n",
      "770\n",
      "(496, 64, 1)\n",
      "[0, 1, 2, 4, 5, 6, 7, 8, 9, 10, 11, 12, 13, 14, 15, 16, 18, 19, 20, 21, 22, 23, 24, 25, 26, 27, 29, 30, 31, 32, 33, 34, 35, 36, 38, 39, 40, 41, 42, 43, 44, 45, 46, 47, 48, 49, 50, 51, 52, 54, 55, 56, 57, 58, 59, 60, 61, 62, 63, 64, 65, 66, 67, 68, 69, 70, 71, 72, 73, 74, 75, 76, 77, 78, 79, 80, 81, 82, 83, 84, 85, 86, 87, 88, 89, 90, 91, 92, 93, 94, 95, 97, 98, 99, 102, 103, 105, 106, 107, 108, 109, 110, 111, 112, 113, 114, 116, 117, 118, 119, 120, 121, 122, 123, 124, 125, 126, 127, 128, 129, 130, 131, 132, 133, 134, 135, 136, 137, 138, 139, 140, 141, 142, 143, 144, 145, 146, 147, 148, 149, 150, 151, 152, 153, 154, 155, 156, 157, 158, 159, 160, 161, 163, 164, 165, 166, 167, 168, 169, 170, 171, 172, 173, 174, 175, 176, 177, 178, 179, 180, 181, 182, 183, 185, 187, 188, 189, 190, 191, 192, 193, 194, 195, 196, 197, 198, 200, 201, 203, 204, 207, 208, 209, 210, 211, 212, 213, 215, 216, 217, 218, 219, 220, 221, 222, 223, 224, 225, 228, 229, 230, 231, 232, 233, 234, 235, 236, 237, 238, 239, 240, 241, 242, 243, 244, 245, 246, 247, 248, 249, 250, 251, 252, 253, 254, 255, 256, 257, 258, 259, 261, 262, 264, 265, 266, 267, 268, 269, 270, 271, 272, 273, 274, 275, 276, 277, 278, 279, 280, 281, 282, 283, 284, 285, 286, 287, 288, 289, 290, 291, 292, 293, 294, 295, 296, 297, 298, 299, 301, 302, 303, 305, 306, 307, 308, 309, 310, 311, 312, 314, 315, 316, 317, 318, 319, 320, 321, 322, 323, 324, 325, 326, 327, 330, 331, 332, 333, 335, 336, 337, 338, 339, 340, 341, 342, 343, 344, 345, 348, 349, 350, 351, 352, 353, 354, 355, 356, 357, 358, 359, 360, 361, 362, 363, 364, 365, 367, 368, 369, 370, 371, 372, 373, 374, 376, 377, 378, 379, 381, 382, 383, 384, 385, 386, 387, 389, 390, 391, 392, 394, 395, 396, 398, 399, 400, 401, 402, 403, 404, 406, 407, 408, 409, 410, 411, 412, 413, 414, 415, 416, 417, 418, 419, 420, 421, 422, 423, 425, 426, 427, 429, 430, 431, 432, 433, 434, 435, 436, 437, 438, 439, 440, 441, 442, 443, 444, 445, 446, 447, 448, 449, 450, 451, 452, 453, 454, 456, 457, 458, 459, 460, 461, 462, 463, 464, 465, 466, 467, 468, 469, 470, 471, 472, 473, 475, 476, 477, 479, 480, 481, 482, 483, 485, 486, 487, 488, 489, 490, 491, 492, 493, 494, 496, 497, 498, 499, 500, 501, 502, 503, 504, 505, 506, 507, 508, 509, 510, 511, 512, 513, 514, 515, 516, 517, 518, 519, 520, 521, 522, 523, 524, 525, 527, 530, 531, 532, 533, 534, 535, 536, 537, 538, 539, 540, 541, 542, 544, 545, 546, 547, 548, 549, 550, 551, 552, 553, 554, 555, 556, 557, 558, 559, 560, 561, 562, 563, 564, 565, 566, 567, 568, 569, 570, 572, 573, 575, 576, 577, 579, 580, 582, 583, 584, 585, 586, 588, 589, 590, 591, 592, 593, 594, 595, 596, 597, 598, 599, 600, 601, 602, 604, 605, 606, 607, 608, 609, 612, 613, 614, 615, 616, 618, 619, 621, 622, 623, 624, 625, 626, 627, 628, 629, 630, 631, 632, 633, 634, 637, 638, 639, 640, 641, 642, 643, 644, 645, 646, 647, 648, 649, 650, 651, 652, 653, 654, 655, 656, 659, 660, 661, 662, 663, 664, 665, 666, 667, 668, 669, 671, 672, 673, 674, 675, 676, 677, 678, 680, 681, 682, 683, 684, 685, 687, 688, 690, 691, 692, 693, 694, 695, 696, 697, 698, 699, 700, 701, 702, 703, 704, 705, 706, 707, 708, 709, 710, 711, 712, 713, 714, 715, 716, 717, 718, 719, 720, 721, 723, 724, 725, 727, 728, 730, 731, 732, 733, 734, 735, 736, 737, 738, 739, 740, 741, 742, 743, 745, 746, 747, 748, 749, 750, 751, 752, 753, 754, 755, 756, 757, 758, 759, 760, 761, 762, 763, 764, 765, 766, 767, 768, 769]\n",
      "[3, 17, 28, 37, 53, 96, 100, 101, 104, 115, 162, 184, 186, 199, 202, 205, 206, 214, 226, 227, 260, 263, 300, 304, 313, 328, 329, 334, 346, 347, 366, 375, 380, 388, 393, 397, 405, 424, 428, 455, 474, 478, 484, 495, 526, 528, 529, 543, 571, 574, 578, 581, 587, 603, 610, 611, 617, 620, 635, 636, 657, 658, 670, 679, 686, 689, 722, 726, 729, 744]\n"
     ]
    }
   ],
   "source": [
    "print (len(labels_list))\n",
    "print (type(labels_list[0]))\n",
    "\n",
    "images=np.array(images)\n",
    "print(images.shape[0])\n",
    "images = images.reshape(images.shape[0],496,64,1)\n",
    "\n",
    "#Increased the Size of training data\n",
    "print(images[0].shape)\n",
    "train_indices = np.random.choice(770,700,replace = False)\n",
    "print(sorted(train_indices))\n",
    "train_images = []\n",
    "train_labels = [] \n",
    "for i in train_indices:\n",
    "    train_images.append(images[i])\n",
    "    train_labels.append(labels_list[i])\n",
    "\n",
    "test_indices = [x for x in range(770) if x not in train_indices]\n",
    "print(test_indices)\n",
    "test_images = []\n",
    "test_labels = []\n",
    "#Corrected the varaible name\n",
    "for i in test_indices:\n",
    "    test_images.append(images[i])\n",
    "    test_labels.append(labels_list[i])"
   ]
  },
  {
   "cell_type": "code",
   "execution_count": 8,
   "metadata": {},
   "outputs": [
    {
     "name": "stdout",
     "output_type": "stream",
     "text": [
      "700\n",
      "700\n",
      "(700, 496, 64, 8)\n"
     ]
    }
   ],
   "source": [
    "print (len(train_images))\n",
    "print (len(train_labels))\n",
    "print (np.array(train_labels).shape)"
   ]
  },
  {
   "cell_type": "code",
   "execution_count": 9,
   "metadata": {
    "collapsed": true
   },
   "outputs": [],
   "source": [
    "train_images = np.array(train_images)\n",
    "test_images = np.array(test_images)"
   ]
  },
  {
   "cell_type": "code",
   "execution_count": 10,
   "metadata": {},
   "outputs": [
    {
     "data": {
      "text/plain": [
       "numpy.ndarray"
      ]
     },
     "execution_count": 10,
     "metadata": {},
     "output_type": "execute_result"
    }
   ],
   "source": [
    "type(train_images)"
   ]
  },
  {
   "cell_type": "code",
   "execution_count": 11,
   "metadata": {
    "collapsed": true
   },
   "outputs": [],
   "source": [
    "mean = np.mean(train_images,axis=(0,1,2,3))\n",
    "std = np.std(train_images,axis=(0,1,2,3))\n",
    "train_images = (train_images-mean)/(std+1e-7)\n",
    "test_images = (test_images-mean)/(std+1e-7)"
   ]
  },
  {
   "cell_type": "code",
   "execution_count": 12,
   "metadata": {},
   "outputs": [
    {
     "data": {
      "text/plain": [
       "(700, 496, 64, 8)"
      ]
     },
     "execution_count": 12,
     "metadata": {},
     "output_type": "execute_result"
    }
   ],
   "source": [
    "train_labels = np.array(train_labels)\n",
    "train_labels.shape"
   ]
  },
  {
   "cell_type": "code",
   "execution_count": 13,
   "metadata": {},
   "outputs": [
    {
     "data": {
      "text/plain": [
       "(70, 496, 64, 8)"
      ]
     },
     "execution_count": 13,
     "metadata": {},
     "output_type": "execute_result"
    }
   ],
   "source": [
    "test_labels = np.array(test_labels)\n",
    "test_labels.shape"
   ]
  },
  {
   "cell_type": "code",
   "execution_count": 14,
   "metadata": {
    "collapsed": true
   },
   "outputs": [],
   "source": [
    "data_shape = 496*64"
   ]
  },
  {
   "cell_type": "code",
   "execution_count": 15,
   "metadata": {},
   "outputs": [
    {
     "data": {
      "text/plain": [
       "(700, 31744, 8)"
      ]
     },
     "execution_count": 15,
     "metadata": {},
     "output_type": "execute_result"
    }
   ],
   "source": [
    "#Modified the train labels shape\n",
    "train_labels = np.reshape(train_labels,(700,data_shape,8))\n",
    "train_labels.shape"
   ]
  },
  {
   "cell_type": "code",
   "execution_count": 16,
   "metadata": {},
   "outputs": [
    {
     "data": {
      "text/plain": [
       "(70, 31744, 8)"
      ]
     },
     "execution_count": 16,
     "metadata": {},
     "output_type": "execute_result"
    }
   ],
   "source": [
    "#Modified the testing labels shape\n",
    "test_labels = np.reshape(test_labels,(70,data_shape,8))\n",
    "test_labels.shape"
   ]
  },
  {
   "cell_type": "code",
   "execution_count": 10,
   "metadata": {
    "collapsed": true
   },
   "outputs": [],
   "source": [
    "arg_1 = tf.placeholder(tf.float32,shape=(None,248,32,64))\n",
    "index_mask_1 = tf.placeholder(tf.bool,shape=(None,496,64,64))\n",
    "\n",
    "arg_2 = tf.placeholder(tf.float32,shape=(None,124,16,64))\n",
    "index_mask_2 = tf.placeholder(tf.bool,shape=(None,248,32,64))\n",
    "\n",
    "arg_3 = tf.placeholder(tf.float32,shape=(None,62,8,64))\n",
    "index_mask_3 = tf.placeholder(tf.bool,shape=(None,124,16,64))"
   ]
  },
  {
   "cell_type": "code",
   "execution_count": 11,
   "metadata": {
    "collapsed": true
   },
   "outputs": [],
   "source": [
    "def maxpool_1(x):\n",
    "    print(type(x))\n",
    "    print(x.shape)\n",
    "    y = x[0,:,:,:]\n",
    "    t = K.argmax(y)\n",
    "    print(type(t))\n",
    "    print(t.shape)\n",
    "    print(type(y))\n",
    "    print(y.shape)\n",
    "    outputs = tf.nn.max_pool_with_argmax(x, ksize=[1, 2, 2, 1],\n",
    "                        strides=[1, 2, 2, 1], padding='VALID')\n",
    "    arg_1=tf.cast(outputs[1],tf.float32)\n",
    "    upsampled_output=UpSampling2D(size=(2,2))(outputs[0])\n",
    "    print(upsampled_output.dtype)\n",
    "    print(arg_1.dtype)\n",
    "    index_mask_1=K.tf.equal(x,upsampled_output)\n",
    "    print((arg_1.shape))\n",
    "    return outputs[0]\n",
    "\n",
    "def maxpool_2(x):\n",
    "    print(type(x))\n",
    "    print(x.shape)\n",
    "    y = x[0,:,:,:]\n",
    "    t = K.argmax(y)\n",
    "    print(type(t))\n",
    "    print(t.shape)\n",
    "    print(type(y))\n",
    "    print(y.shape)\n",
    "    outputs = tf.nn.max_pool_with_argmax(x, ksize=[1, 2, 2, 1],\n",
    "                        strides=[1, 2, 2, 1], padding='VALID')\n",
    "    arg_2=tf.cast(outputs[1],tf.float32)\n",
    "    upsampled_output=UpSampling2D(size=(2,2))(outputs[0])\n",
    "    print(upsampled_output.dtype)\n",
    "    print(arg_2.dtype)\n",
    "    index_mask_2=K.tf.equal(x,upsampled_output)\n",
    "    print((arg_2.shape))\n",
    "    return outputs[0]\n",
    "\n",
    "def maxpool_3(x):\n",
    "    print(type(x))\n",
    "    print(x.shape)\n",
    "    y = x[0,:,:,:]\n",
    "    t = K.argmax(y)\n",
    "    print(type(t))\n",
    "    print(t.shape)\n",
    "    print(type(y))\n",
    "    print(y.shape)\n",
    "    outputs = tf.nn.max_pool_with_argmax(x, ksize=[1, 2, 2, 1],\n",
    "                        strides=[1, 2, 2, 1], padding='VALID')\n",
    "    arg_3=tf.cast(outputs[1],tf.float32)\n",
    "    upsampled_output=UpSampling2D(size=(2,2))(outputs[0])\n",
    "    print(upsampled_output.dtype)\n",
    "    print(arg_3.dtype)\n",
    "    index_mask_3=K.tf.equal(x,upsampled_output)\n",
    "    print((arg_3.shape))\n",
    "    return outputs[0]\n",
    "\n",
    "def shape(x):\n",
    "    shape = list(x)\n",
    "    shape[1]= shape[1]//2\n",
    "    shape[2]= None\n",
    "    return tuple(shape)"
   ]
  },
  {
   "cell_type": "code",
   "execution_count": 12,
   "metadata": {},
   "outputs": [
    {
     "name": "stdout",
     "output_type": "stream",
     "text": [
      "(?, 248, 32, 64)\n"
     ]
    }
   ],
   "source": [
    "print((arg_1.shape))"
   ]
  },
  {
   "cell_type": "code",
   "execution_count": 13,
   "metadata": {
    "collapsed": true
   },
   "outputs": [],
   "source": [
    "def unpool_1(input):\n",
    "    mask_shape = index_mask_1.get_shape().as_list()\n",
    "    input_shape = input.get_shape().as_list()\n",
    "    pool_size = (mask_shape[1] / input_shape[1], None)\n",
    "    on_success = UpSampling2D(size=(2,2))(input)\n",
    "    on_fail = K.zeros_like(on_success)\n",
    "    print()\n",
    "    return K.tf.where(index_mask_1, on_success, on_fail)\n",
    "\n",
    "def unpool_2(input):\n",
    "    mask_shape= index_mask_2.get_shape().as_list()\n",
    "    input_shape = input.get_shape().as_list()\n",
    "    pool_size = (mask_shape[1] / input_shape[1], None)\n",
    "    on_success = UpSampling2D(size=(2,2))(input)\n",
    "    on_fail = K.zeros_like(on_success)\n",
    "    print()\n",
    "    return K.tf.where(index_mask_2, on_success, on_fail)\n",
    "\n",
    "def unpool_3(input):\n",
    "    mask_shape = index_mask_3.get_shape().as_list()\n",
    "    input_shape = input.get_shape().as_list()\n",
    "    pool_size = (mask_shape[1] / input_shape[1], None)\n",
    "    on_success = UpSampling2D(size=(2,2))(input)\n",
    "    on_fail = K.zeros_like(on_success)\n",
    "    print()\n",
    "    return K.tf.where(index_mask_3, on_success, on_fail)"
   ]
  },
  {
   "cell_type": "code",
   "execution_count": 14,
   "metadata": {
    "collapsed": true
   },
   "outputs": [],
   "source": [
    "def unpool_shape(x):\n",
    "    shape = list(x)\n",
    "    shape[1]= shape[1]*2\n",
    "    shape[2]= None\n",
    "    return tuple(shape)"
   ]
  },
  {
   "cell_type": "code",
   "execution_count": 17,
   "metadata": {
    "collapsed": true
   },
   "outputs": [],
   "source": [
    "big_filter = True"
   ]
  },
  {
   "cell_type": "code",
   "execution_count": 19,
   "metadata": {},
   "outputs": [
    {
     "name": "stdout",
     "output_type": "stream",
     "text": [
      "____________________________________________________________________________________________________\n",
      "Layer (type)                     Output Shape          Param #     Connected to                     \n",
      "====================================================================================================\n",
      "input_1 (InputLayer)             (None, 496, 64, 1)    0                                            \n",
      "____________________________________________________________________________________________________\n",
      "conv2d_1 (Conv2D)                (None, 496, 64, 64)   1408        input_1[0][0]                    \n",
      "____________________________________________________________________________________________________\n",
      "batch_normalization_1 (BatchNorm (None, 496, 64, 64)   256         conv2d_1[0][0]                   \n",
      "____________________________________________________________________________________________________\n",
      "max_pooling2d_1 (MaxPooling2D)   (None, 248, 32, 64)   0           batch_normalization_1[0][0]      \n",
      "____________________________________________________________________________________________________\n",
      "conv2d_2 (Conv2D)                (None, 248, 32, 64)   86080       max_pooling2d_1[0][0]            \n",
      "____________________________________________________________________________________________________\n",
      "batch_normalization_2 (BatchNorm (None, 248, 32, 64)   256         conv2d_2[0][0]                   \n",
      "____________________________________________________________________________________________________\n",
      "max_pooling2d_2 (MaxPooling2D)   (None, 124, 16, 64)   0           batch_normalization_2[0][0]      \n",
      "____________________________________________________________________________________________________\n",
      "conv2d_3 (Conv2D)                (None, 124, 16, 64)   86080       max_pooling2d_2[0][0]            \n",
      "____________________________________________________________________________________________________\n",
      "batch_normalization_3 (BatchNorm (None, 124, 16, 64)   256         conv2d_3[0][0]                   \n",
      "____________________________________________________________________________________________________\n",
      "max_pooling2d_3 (MaxPooling2D)   (None, 62, 8, 64)     0           batch_normalization_3[0][0]      \n",
      "____________________________________________________________________________________________________\n",
      "conv2d_4 (Conv2D)                (None, 62, 8, 64)     86080       max_pooling2d_3[0][0]            \n",
      "____________________________________________________________________________________________________\n",
      "batch_normalization_4 (BatchNorm (None, 62, 8, 64)     256         conv2d_4[0][0]                   \n",
      "____________________________________________________________________________________________________\n",
      "up_sampling2d_1 (UpSampling2D)   (None, 124, 16, 64)   0           batch_normalization_4[0][0]      \n",
      "____________________________________________________________________________________________________\n",
      "concatenate_1 (Concatenate)      (None, 124, 16, 128)  0           batch_normalization_3[0][0]      \n",
      "                                                                   up_sampling2d_1[0][0]            \n",
      "____________________________________________________________________________________________________\n",
      "conv2d_5 (Conv2D)                (None, 124, 16, 64)   172096      concatenate_1[0][0]              \n",
      "____________________________________________________________________________________________________\n",
      "batch_normalization_5 (BatchNorm (None, 124, 16, 64)   256         conv2d_5[0][0]                   \n",
      "____________________________________________________________________________________________________\n",
      "up_sampling2d_2 (UpSampling2D)   (None, 248, 32, 64)   0           batch_normalization_5[0][0]      \n",
      "____________________________________________________________________________________________________\n",
      "concatenate_2 (Concatenate)      (None, 248, 32, 128)  0           up_sampling2d_2[0][0]            \n",
      "                                                                   batch_normalization_2[0][0]      \n",
      "____________________________________________________________________________________________________\n",
      "conv2d_6 (Conv2D)                (None, 248, 32, 64)   172096      concatenate_2[0][0]              \n",
      "____________________________________________________________________________________________________\n",
      "batch_normalization_6 (BatchNorm (None, 248, 32, 64)   256         conv2d_6[0][0]                   \n",
      "____________________________________________________________________________________________________\n",
      "Layer19 (UpSampling2D)           (None, 496, 64, 64)   0           batch_normalization_6[0][0]      \n",
      "____________________________________________________________________________________________________\n",
      "concatenate_3 (Concatenate)      (None, 496, 64, 128)  0           Layer19[0][0]                    \n",
      "                                                                   batch_normalization_1[0][0]      \n",
      "____________________________________________________________________________________________________\n",
      "conv2d_7 (Conv2D)                (None, 496, 64, 64)   172096      concatenate_3[0][0]              \n",
      "____________________________________________________________________________________________________\n",
      "batch_normalization_7 (BatchNorm (None, 496, 64, 64)   256         conv2d_7[0][0]                   \n",
      "____________________________________________________________________________________________________\n",
      "conv2d_8 (Conv2D)                (None, 496, 64, 8)    520         batch_normalization_7[0][0]      \n",
      "____________________________________________________________________________________________________\n",
      "reshape_1 (Reshape)              (None, 31744, 8)      0           conv2d_8[0][0]                   \n",
      "____________________________________________________________________________________________________\n",
      "activation_1 (Activation)        (None, 31744, 8)      0           reshape_1[0][0]                  \n",
      "====================================================================================================\n",
      "Total params: 778,248\n",
      "Trainable params: 777,352\n",
      "Non-trainable params: 896\n",
      "____________________________________________________________________________________________________\n"
     ]
    }
   ],
   "source": [
    "\n",
    "if big_filter :\n",
    "    # Defines the input tensor\n",
    "    inputs = Input(shape=(496,64,1))\n",
    "\n",
    "    L1 = Conv2D(64,kernel_size=(7,3),activation = 'relu',padding = \"same\")(inputs)\n",
    "    L2 = BatchNormalization()(L1)\n",
    "    #L3 = Lambda(maxpool_1,output_shape = shape)(L2)\n",
    "    L3 = MaxPooling2D(pool_size=(2,2))(L2)\n",
    "    L4 = Conv2D(64,kernel_size=(7,3),activation = 'relu',padding = \"same\")(L3)\n",
    "    L5 = BatchNormalization()(L4)\n",
    "\n",
    "    #L6 = Lambda(maxpool_2,output_shape = shape)(L5)\n",
    "    L6 = MaxPooling2D(pool_size=(2,2))(L5)\n",
    "    L7 = Conv2D(64,kernel_size=(7,3),activation = 'relu',padding = \"same\")(L6)\n",
    "    L8 = BatchNormalization()(L7)\n",
    "    #L9 = Lambda(maxpool_3,output_shape = shape)(L8)\n",
    "    L9 = MaxPooling2D(pool_size=(2,2))(L8)\n",
    "    L10 = Conv2D(64,kernel_size=(7,3),activation = 'relu',padding = \"same\")(L9)\n",
    "    L11 = BatchNormalization()(L10)\n",
    "    L12 = UpSampling2D(size = (2,2))(L11)\n",
    "    #L12 = Lambda(unpool_3,output_shape = unpool_shape)(L11)\n",
    "    L13 = Concatenate(axis = 3)([L8,L12])\n",
    "    L14 = Conv2D(64,kernel_size=(7,3),activation = 'relu',padding = \"same\")(L13)\n",
    "    L15 = BatchNormalization()(L14)\n",
    "    L16 = UpSampling2D(size= (2,2))(L15)\n",
    "    #L16 = Lambda(unpool_2,output_shape=unpool_shape)(L15)\n",
    "    L17 = Concatenate(axis = 3)([L16,L5])\n",
    "    L18 = Conv2D(64,kernel_size=(7,3),activation = 'relu',padding = \"same\")(L17)\n",
    "    L19 = BatchNormalization()(L18)\n",
    "    #L20 = Lambda(unpool_1,output_shape=unpool_shape)(L19)\n",
    "    L20 = UpSampling2D(size=(2,2),name = \"Layer19\")(L19)\n",
    "    L21 = Concatenate(axis=3)([L20,L2])\n",
    "    L22 = Conv2D(64,kernel_size=(7,3),activation = 'relu',padding = \"same\")(L21)\n",
    "    L23 = BatchNormalization()(L22)\n",
    "    L24 = Conv2D(8,kernel_size=(1,1),padding = \"same\")(L23)\n",
    "    L25 = Reshape((data_shape,8),input_shape = (496,64,8))(L24)\n",
    "    L26 = Activation('softmax')(L25)\n",
    "\n",
    "\n",
    "    model = Model(inputs = inputs, outputs = L26)\n",
    "    model.summary()\n",
    "else :\n",
    "     # Defines the input tensor\n",
    "    inputs = Input(shape=(496,64,1))\n",
    "\n",
    "    L1 = Conv2D(64,kernel_size=(5,3),activation = 'relu',padding = \"same\")(inputs)\n",
    "    L2 = BatchNormalization()(L1)\n",
    "    #L3 = Lambda(maxpool_1,output_shape = shape)(L2)\n",
    "    L3 = MaxPooling2D(pool_size=(2,2))(L2)\n",
    "    L4 = Conv2D(64,kernel_size=(5,3),activation = 'relu',padding = \"same\")(L3)\n",
    "    L5 = BatchNormalization()(L4)\n",
    "\n",
    "    #L6 = Lambda(maxpool_2,output_shape = shape)(L5)\n",
    "    L6 = MaxPooling2D(pool_size=(2,2))(L5)\n",
    "    L7 = Conv2D(64,kernel_size=(5,3),activation = 'relu',padding = \"same\")(L6)\n",
    "    L8 = BatchNormalization()(L7)\n",
    "    #L9 = Lambda(maxpool_3,output_shape = shape)(L8)\n",
    "    L9 = MaxPooling2D(pool_size=(2,2))(L8)\n",
    "    L10 = Conv2D(64,kernel_size=(5,3),activation = 'relu',padding = \"same\")(L9)\n",
    "    L11 = BatchNormalization()(L10)\n",
    "    L12 = UpSampling2D(size = (2,2))(L11)\n",
    "    #L12 = Lambda(unpool_3,output_shape = unpool_shape)(L11)\n",
    "    L13 = Concatenate(axis = 3)([L8,L12])\n",
    "    L14 = Conv2D(64,kernel_size=(5,3),activation = 'relu',padding = \"same\")(L13)\n",
    "    L15 = BatchNormalization()(L14)\n",
    "    L16 = UpSampling2D(size= (2,2))(L15)\n",
    "    #L16 = Lambda(unpool_2,output_shape=unpool_shape)(L15)\n",
    "    L17 = Concatenate(axis = 3)([L16,L5])\n",
    "    L18 = Conv2D(64,kernel_size=(5,3),activation = 'relu',padding = \"same\")(L17)\n",
    "    L19 = BatchNormalization()(L18)\n",
    "    #L20 = Lambda(unpool_1,output_shape=unpool_shape)(L19)\n",
    "    L20 = UpSampling2D(size=(2,2),name = \"Layer19\")(L19)\n",
    "    L21 = Concatenate(axis=3)([L20,L2])\n",
    "    L22 = Conv2D(64,kernel_size=(5,3),activation = 'relu',padding = \"same\")(L21)\n",
    "    L23 = BatchNormalization()(L22)\n",
    "    L24 = Conv2D(8,kernel_size=(1,1),padding = \"same\")(L23)\n",
    "    L25 = Reshape((data_shape,8),input_shape = (496,64,8))(L24)\n",
    "    L26 = Activation('softmax')(L25)\n",
    "\n",
    "\n",
    "    model = Model(inputs = inputs, outputs = L26)\n",
    "    model.summary()"
   ]
  },
  {
   "cell_type": "code",
   "execution_count": 20,
   "metadata": {
    "collapsed": true
   },
   "outputs": [],
   "source": [
    "class_weighting = [1.0,80.0000,80.00000000,80.00000000,80.0000,80.000,80.00,80.00]"
   ]
  },
  {
   "cell_type": "code",
   "execution_count": 21,
   "metadata": {
    "collapsed": true
   },
   "outputs": [],
   "source": [
    "smooth = 1"
   ]
  },
  {
   "cell_type": "code",
   "execution_count": 21,
   "metadata": {
    "collapsed": true
   },
   "outputs": [],
   "source": [
    "def dice_coef(y_true, y_pred):\n",
    "    y_true_f = K.flatten(y_true)\n",
    "    y_pred_f = K.flatten(y_pred)\n",
    "    intersection = K.sum(y_true_f * y_pred_f)\n",
    "    \n",
    "    return (2. * intersection + smooth) / (K.sum(y_true_f) + K.sum(y_pred_f) + smooth)\n"
   ]
  },
  {
   "cell_type": "code",
   "execution_count": 22,
   "metadata": {
    "collapsed": true
   },
   "outputs": [],
   "source": [
    "def dice_coef_loss(y_true, y_pred):\n",
    "    return -dice_coef(y_true, y_pred)"
   ]
  },
  {
   "cell_type": "code",
   "execution_count": 24,
   "metadata": {
    "collapsed": true
   },
   "outputs": [],
   "source": [
    "model.compile(optimizer='Adam',loss='categorical_crossentropy',metrics=['accuracy',dice_coef])"
   ]
  },
  {
   "cell_type": "code",
   "execution_count": 25,
   "metadata": {
    "collapsed": true
   },
   "outputs": [],
   "source": [
    "data_augmentation = True"
   ]
  },
  {
   "cell_type": "code",
   "execution_count": 30,
   "metadata": {},
   "outputs": [
    {
     "name": "stdout",
     "output_type": "stream",
     "text": [
      "-------------Using Data augmentation------------\n",
      "Epoch 1/10\n",
      "43/43 [==============================] - 1280s - loss: 1.7776 - acc: 0.6868 - dice_coef: 0.3264 - val_loss: 1.3433 - val_acc: 0.7940 - val_dice_coef: 0.3046\n",
      "Epoch 2/10\n",
      "43/43 [==============================] - 1237s - loss: 1.2953 - acc: 0.7634 - dice_coef: 0.4228 - val_loss: 0.8412 - val_acc: 0.8081 - val_dice_coef: 0.6041\n",
      "Epoch 3/10\n",
      "43/43 [==============================] - 1241s - loss: 0.9406 - acc: 0.8063 - dice_coef: 0.5809 - val_loss: 0.7798 - val_acc: 0.8081 - val_dice_coef: 0.7176\n",
      "Epoch 4/10\n",
      "43/43 [==============================] - 1238s - loss: 0.8166 - acc: 0.8102 - dice_coef: 0.6449 - val_loss: 0.7772 - val_acc: 0.8081 - val_dice_coef: 0.7576\n",
      "Epoch 5/10\n",
      "43/43 [==============================] - 1233s - loss: 0.7979 - acc: 0.8046 - dice_coef: 0.6798 - val_loss: 0.7297 - val_acc: 0.8081 - val_dice_coef: 0.7257\n",
      "Epoch 6/10\n",
      "43/43 [==============================] - 1233s - loss: 0.7449 - acc: 0.8120 - dice_coef: 0.6879 - val_loss: 0.7053 - val_acc: 0.8081 - val_dice_coef: 0.7398\n",
      "Epoch 7/10\n",
      "43/43 [==============================] - 1238s - loss: 0.7233 - acc: 0.8123 - dice_coef: 0.6994 - val_loss: 0.7188 - val_acc: 0.8081 - val_dice_coef: 0.6659\n",
      "Epoch 8/10\n",
      "43/43 [==============================] - 1236s - loss: 0.6944 - acc: 0.8136 - dice_coef: 0.6977 - val_loss: 0.6866 - val_acc: 0.8081 - val_dice_coef: 0.6894\n",
      "Epoch 9/10\n",
      "43/43 [==============================] - 1232s - loss: 0.6540 - acc: 0.8163 - dice_coef: 0.7098 - val_loss: 0.6762 - val_acc: 0.8081 - val_dice_coef: 0.7139\n",
      "Epoch 10/10\n",
      "43/43 [==============================] - 1233s - loss: 0.6449 - acc: 0.8176 - dice_coef: 0.7188 - val_loss: 0.6690 - val_acc: 0.8081 - val_dice_coef: 0.7348\n"
     ]
    }
   ],
   "source": [
    "if data_augmentation :\n",
    "    print(\"-------------Using Data augmentation------------\")\n",
    "     # This will do preprocessing and realtime data augmentation:\n",
    "    datagen = ImageDataGenerator(\n",
    "        featurewise_center=False,  # set input mean to 0 over the dataset\n",
    "        samplewise_center=False,  # set each sample mean to 0\n",
    "        featurewise_std_normalization=False,  # divide inputs by std of the dataset\n",
    "        samplewise_std_normalization=False,  # divide each input by its std\n",
    "        zca_whitening=False,  # apply ZCA whitening\n",
    "        rotation_range=0,  # randomly rotate images in the range (degrees, 0 to 180)\n",
    "        width_shift_range=0.1,  # randomly shift images horizontally (fraction of total width)\n",
    "        height_shift_range=0.1,  # randomly shift images vertically (fraction of total height)\n",
    "        horizontal_flip=True,  # randomly flip images\n",
    "        vertical_flip=False)  # randomly flip images\n",
    "    \n",
    "    datagen.fit(train_images)\n",
    "    model.fit_generator(datagen.flow(train_images, train_labels, batch_size=16),\n",
    "                        steps_per_epoch=train_images.shape[0] // 16,\n",
    "                        epochs=10,verbose=1,validation_data=(test_images,test_labels))\n",
    "else :\n",
    "    model.fit(train_images,train_labels,batch_size=16,epochs=10,validation_data=(test_images,test_labels),class_weight=class_weighting)"
   ]
  },
  {
   "cell_type": "code",
   "execution_count": 28,
   "metadata": {
    "scrolled": true
   },
   "outputs": [
    {
     "name": "stdout",
     "output_type": "stream",
     "text": [
      "Train on 500 samples, validate on 270 samples\n",
      "Epoch 1/10\n",
      "500/500 [==============================] - 1410s - loss: -0.7345 - acc: 0.7492 - dice_coef: 0.7345 - val_loss: -0.6857 - val_acc: 0.6905 - val_dice_coef: 0.6857\n",
      "Epoch 2/10\n",
      " 32/500 [>.............................] - ETA: 1085s - loss: -0.7743 - acc: 0.7813 - dice_coef: 0.7743"
     ]
    },
    {
     "ename": "KeyboardInterrupt",
     "evalue": "",
     "output_type": "error",
     "traceback": [
      "\u001b[0;31m---------------------------------------------------------------------------\u001b[0m",
      "\u001b[0;31mKeyboardInterrupt\u001b[0m                         Traceback (most recent call last)",
      "\u001b[0;32m<ipython-input-28-fdfbcca9442d>\u001b[0m in \u001b[0;36m<module>\u001b[0;34m()\u001b[0m\n\u001b[1;32m      1\u001b[0m \u001b[0mtrain_images_2\u001b[0m\u001b[0;34m=\u001b[0m\u001b[0mnp\u001b[0m\u001b[0;34m.\u001b[0m\u001b[0marray\u001b[0m\u001b[0;34m(\u001b[0m\u001b[0mtrain_images\u001b[0m\u001b[0;34m)\u001b[0m\u001b[0;34m\u001b[0m\u001b[0m\n\u001b[1;32m      2\u001b[0m \u001b[0mtrain_labels_2\u001b[0m\u001b[0;34m=\u001b[0m\u001b[0mnp\u001b[0m\u001b[0;34m.\u001b[0m\u001b[0marray\u001b[0m\u001b[0;34m(\u001b[0m\u001b[0mtrain_labels\u001b[0m\u001b[0;34m)\u001b[0m\u001b[0;34m\u001b[0m\u001b[0m\n\u001b[0;32m----> 3\u001b[0;31m \u001b[0mmodel\u001b[0m\u001b[0;34m.\u001b[0m\u001b[0mfit\u001b[0m\u001b[0;34m(\u001b[0m\u001b[0mtrain_images\u001b[0m\u001b[0;34m,\u001b[0m\u001b[0mtrain_labels\u001b[0m\u001b[0;34m,\u001b[0m\u001b[0mbatch_size\u001b[0m\u001b[0;34m=\u001b[0m\u001b[0;36m16\u001b[0m\u001b[0;34m,\u001b[0m\u001b[0mepochs\u001b[0m\u001b[0;34m=\u001b[0m\u001b[0;36m10\u001b[0m\u001b[0;34m,\u001b[0m\u001b[0mvalidation_data\u001b[0m\u001b[0;34m=\u001b[0m\u001b[0;34m(\u001b[0m\u001b[0mtest_images\u001b[0m\u001b[0;34m,\u001b[0m\u001b[0mtest_labels\u001b[0m\u001b[0;34m)\u001b[0m\u001b[0;34m,\u001b[0m\u001b[0mclass_weight\u001b[0m\u001b[0;34m=\u001b[0m\u001b[0mclass_weighting\u001b[0m\u001b[0;34m)\u001b[0m\u001b[0;34m\u001b[0m\u001b[0m\n\u001b[0m",
      "\u001b[0;32m/usr/local/lib/python2.7/dist-packages/keras/engine/training.pyc\u001b[0m in \u001b[0;36mfit\u001b[0;34m(self, x, y, batch_size, epochs, verbose, callbacks, validation_split, validation_data, shuffle, class_weight, sample_weight, initial_epoch, steps_per_epoch, validation_steps, **kwargs)\u001b[0m\n\u001b[1;32m   1596\u001b[0m                               \u001b[0minitial_epoch\u001b[0m\u001b[0;34m=\u001b[0m\u001b[0minitial_epoch\u001b[0m\u001b[0;34m,\u001b[0m\u001b[0;34m\u001b[0m\u001b[0m\n\u001b[1;32m   1597\u001b[0m                               \u001b[0msteps_per_epoch\u001b[0m\u001b[0;34m=\u001b[0m\u001b[0msteps_per_epoch\u001b[0m\u001b[0;34m,\u001b[0m\u001b[0;34m\u001b[0m\u001b[0m\n\u001b[0;32m-> 1598\u001b[0;31m                               validation_steps=validation_steps)\n\u001b[0m\u001b[1;32m   1599\u001b[0m \u001b[0;34m\u001b[0m\u001b[0m\n\u001b[1;32m   1600\u001b[0m     def evaluate(self, x, y,\n",
      "\u001b[0;32m/usr/local/lib/python2.7/dist-packages/keras/engine/training.pyc\u001b[0m in \u001b[0;36m_fit_loop\u001b[0;34m(self, f, ins, out_labels, batch_size, epochs, verbose, callbacks, val_f, val_ins, shuffle, callback_metrics, initial_epoch, steps_per_epoch, validation_steps)\u001b[0m\n\u001b[1;32m   1181\u001b[0m                     \u001b[0mbatch_logs\u001b[0m\u001b[0;34m[\u001b[0m\u001b[0;34m'size'\u001b[0m\u001b[0;34m]\u001b[0m \u001b[0;34m=\u001b[0m \u001b[0mlen\u001b[0m\u001b[0;34m(\u001b[0m\u001b[0mbatch_ids\u001b[0m\u001b[0;34m)\u001b[0m\u001b[0;34m\u001b[0m\u001b[0m\n\u001b[1;32m   1182\u001b[0m                     \u001b[0mcallbacks\u001b[0m\u001b[0;34m.\u001b[0m\u001b[0mon_batch_begin\u001b[0m\u001b[0;34m(\u001b[0m\u001b[0mbatch_index\u001b[0m\u001b[0;34m,\u001b[0m \u001b[0mbatch_logs\u001b[0m\u001b[0;34m)\u001b[0m\u001b[0;34m\u001b[0m\u001b[0m\n\u001b[0;32m-> 1183\u001b[0;31m                     \u001b[0mouts\u001b[0m \u001b[0;34m=\u001b[0m \u001b[0mf\u001b[0m\u001b[0;34m(\u001b[0m\u001b[0mins_batch\u001b[0m\u001b[0;34m)\u001b[0m\u001b[0;34m\u001b[0m\u001b[0m\n\u001b[0m\u001b[1;32m   1184\u001b[0m                     \u001b[0;32mif\u001b[0m \u001b[0;32mnot\u001b[0m \u001b[0misinstance\u001b[0m\u001b[0;34m(\u001b[0m\u001b[0mouts\u001b[0m\u001b[0;34m,\u001b[0m \u001b[0mlist\u001b[0m\u001b[0;34m)\u001b[0m\u001b[0;34m:\u001b[0m\u001b[0;34m\u001b[0m\u001b[0m\n\u001b[1;32m   1185\u001b[0m                         \u001b[0mouts\u001b[0m \u001b[0;34m=\u001b[0m \u001b[0;34m[\u001b[0m\u001b[0mouts\u001b[0m\u001b[0;34m]\u001b[0m\u001b[0;34m\u001b[0m\u001b[0m\n",
      "\u001b[0;32m/usr/local/lib/python2.7/dist-packages/keras/backend/tensorflow_backend.pyc\u001b[0m in \u001b[0;36m__call__\u001b[0;34m(self, inputs)\u001b[0m\n\u001b[1;32m   2271\u001b[0m         updated = session.run(self.outputs + [self.updates_op],\n\u001b[1;32m   2272\u001b[0m                               \u001b[0mfeed_dict\u001b[0m\u001b[0;34m=\u001b[0m\u001b[0mfeed_dict\u001b[0m\u001b[0;34m,\u001b[0m\u001b[0;34m\u001b[0m\u001b[0m\n\u001b[0;32m-> 2273\u001b[0;31m                               **self.session_kwargs)\n\u001b[0m\u001b[1;32m   2274\u001b[0m         \u001b[0;32mreturn\u001b[0m \u001b[0mupdated\u001b[0m\u001b[0;34m[\u001b[0m\u001b[0;34m:\u001b[0m\u001b[0mlen\u001b[0m\u001b[0;34m(\u001b[0m\u001b[0mself\u001b[0m\u001b[0;34m.\u001b[0m\u001b[0moutputs\u001b[0m\u001b[0;34m)\u001b[0m\u001b[0;34m]\u001b[0m\u001b[0;34m\u001b[0m\u001b[0m\n\u001b[1;32m   2275\u001b[0m \u001b[0;34m\u001b[0m\u001b[0m\n",
      "\u001b[0;32m/usr/local/lib/python2.7/dist-packages/tensorflow/python/client/session.pyc\u001b[0m in \u001b[0;36mrun\u001b[0;34m(self, fetches, feed_dict, options, run_metadata)\u001b[0m\n\u001b[1;32m    893\u001b[0m     \u001b[0;32mtry\u001b[0m\u001b[0;34m:\u001b[0m\u001b[0;34m\u001b[0m\u001b[0m\n\u001b[1;32m    894\u001b[0m       result = self._run(None, fetches, feed_dict, options_ptr,\n\u001b[0;32m--> 895\u001b[0;31m                          run_metadata_ptr)\n\u001b[0m\u001b[1;32m    896\u001b[0m       \u001b[0;32mif\u001b[0m \u001b[0mrun_metadata\u001b[0m\u001b[0;34m:\u001b[0m\u001b[0;34m\u001b[0m\u001b[0m\n\u001b[1;32m    897\u001b[0m         \u001b[0mproto_data\u001b[0m \u001b[0;34m=\u001b[0m \u001b[0mtf_session\u001b[0m\u001b[0;34m.\u001b[0m\u001b[0mTF_GetBuffer\u001b[0m\u001b[0;34m(\u001b[0m\u001b[0mrun_metadata_ptr\u001b[0m\u001b[0;34m)\u001b[0m\u001b[0;34m\u001b[0m\u001b[0m\n",
      "\u001b[0;32m/usr/local/lib/python2.7/dist-packages/tensorflow/python/client/session.pyc\u001b[0m in \u001b[0;36m_run\u001b[0;34m(self, handle, fetches, feed_dict, options, run_metadata)\u001b[0m\n\u001b[1;32m   1122\u001b[0m     \u001b[0;32mif\u001b[0m \u001b[0mfinal_fetches\u001b[0m \u001b[0;32mor\u001b[0m \u001b[0mfinal_targets\u001b[0m \u001b[0;32mor\u001b[0m \u001b[0;34m(\u001b[0m\u001b[0mhandle\u001b[0m \u001b[0;32mand\u001b[0m \u001b[0mfeed_dict_tensor\u001b[0m\u001b[0;34m)\u001b[0m\u001b[0;34m:\u001b[0m\u001b[0;34m\u001b[0m\u001b[0m\n\u001b[1;32m   1123\u001b[0m       results = self._do_run(handle, final_targets, final_fetches,\n\u001b[0;32m-> 1124\u001b[0;31m                              feed_dict_tensor, options, run_metadata)\n\u001b[0m\u001b[1;32m   1125\u001b[0m     \u001b[0;32melse\u001b[0m\u001b[0;34m:\u001b[0m\u001b[0;34m\u001b[0m\u001b[0m\n\u001b[1;32m   1126\u001b[0m       \u001b[0mresults\u001b[0m \u001b[0;34m=\u001b[0m \u001b[0;34m[\u001b[0m\u001b[0;34m]\u001b[0m\u001b[0;34m\u001b[0m\u001b[0m\n",
      "\u001b[0;32m/usr/local/lib/python2.7/dist-packages/tensorflow/python/client/session.pyc\u001b[0m in \u001b[0;36m_do_run\u001b[0;34m(self, handle, target_list, fetch_list, feed_dict, options, run_metadata)\u001b[0m\n\u001b[1;32m   1319\u001b[0m     \u001b[0;32mif\u001b[0m \u001b[0mhandle\u001b[0m \u001b[0;32mis\u001b[0m \u001b[0mNone\u001b[0m\u001b[0;34m:\u001b[0m\u001b[0;34m\u001b[0m\u001b[0m\n\u001b[1;32m   1320\u001b[0m       return self._do_call(_run_fn, self._session, feeds, fetches, targets,\n\u001b[0;32m-> 1321\u001b[0;31m                            options, run_metadata)\n\u001b[0m\u001b[1;32m   1322\u001b[0m     \u001b[0;32melse\u001b[0m\u001b[0;34m:\u001b[0m\u001b[0;34m\u001b[0m\u001b[0m\n\u001b[1;32m   1323\u001b[0m       \u001b[0;32mreturn\u001b[0m \u001b[0mself\u001b[0m\u001b[0;34m.\u001b[0m\u001b[0m_do_call\u001b[0m\u001b[0;34m(\u001b[0m\u001b[0m_prun_fn\u001b[0m\u001b[0;34m,\u001b[0m \u001b[0mself\u001b[0m\u001b[0;34m.\u001b[0m\u001b[0m_session\u001b[0m\u001b[0;34m,\u001b[0m \u001b[0mhandle\u001b[0m\u001b[0;34m,\u001b[0m \u001b[0mfeeds\u001b[0m\u001b[0;34m,\u001b[0m \u001b[0mfetches\u001b[0m\u001b[0;34m)\u001b[0m\u001b[0;34m\u001b[0m\u001b[0m\n",
      "\u001b[0;32m/usr/local/lib/python2.7/dist-packages/tensorflow/python/client/session.pyc\u001b[0m in \u001b[0;36m_do_call\u001b[0;34m(self, fn, *args)\u001b[0m\n\u001b[1;32m   1325\u001b[0m   \u001b[0;32mdef\u001b[0m \u001b[0m_do_call\u001b[0m\u001b[0;34m(\u001b[0m\u001b[0mself\u001b[0m\u001b[0;34m,\u001b[0m \u001b[0mfn\u001b[0m\u001b[0;34m,\u001b[0m \u001b[0;34m*\u001b[0m\u001b[0margs\u001b[0m\u001b[0;34m)\u001b[0m\u001b[0;34m:\u001b[0m\u001b[0;34m\u001b[0m\u001b[0m\n\u001b[1;32m   1326\u001b[0m     \u001b[0;32mtry\u001b[0m\u001b[0;34m:\u001b[0m\u001b[0;34m\u001b[0m\u001b[0m\n\u001b[0;32m-> 1327\u001b[0;31m       \u001b[0;32mreturn\u001b[0m \u001b[0mfn\u001b[0m\u001b[0;34m(\u001b[0m\u001b[0;34m*\u001b[0m\u001b[0margs\u001b[0m\u001b[0;34m)\u001b[0m\u001b[0;34m\u001b[0m\u001b[0m\n\u001b[0m\u001b[1;32m   1328\u001b[0m     \u001b[0;32mexcept\u001b[0m \u001b[0merrors\u001b[0m\u001b[0;34m.\u001b[0m\u001b[0mOpError\u001b[0m \u001b[0;32mas\u001b[0m \u001b[0me\u001b[0m\u001b[0;34m:\u001b[0m\u001b[0;34m\u001b[0m\u001b[0m\n\u001b[1;32m   1329\u001b[0m       \u001b[0mmessage\u001b[0m \u001b[0;34m=\u001b[0m \u001b[0mcompat\u001b[0m\u001b[0;34m.\u001b[0m\u001b[0mas_text\u001b[0m\u001b[0;34m(\u001b[0m\u001b[0me\u001b[0m\u001b[0;34m.\u001b[0m\u001b[0mmessage\u001b[0m\u001b[0;34m)\u001b[0m\u001b[0;34m\u001b[0m\u001b[0m\n",
      "\u001b[0;32m/usr/local/lib/python2.7/dist-packages/tensorflow/python/client/session.pyc\u001b[0m in \u001b[0;36m_run_fn\u001b[0;34m(session, feed_dict, fetch_list, target_list, options, run_metadata)\u001b[0m\n\u001b[1;32m   1304\u001b[0m           return tf_session.TF_Run(session, options,\n\u001b[1;32m   1305\u001b[0m                                    \u001b[0mfeed_dict\u001b[0m\u001b[0;34m,\u001b[0m \u001b[0mfetch_list\u001b[0m\u001b[0;34m,\u001b[0m \u001b[0mtarget_list\u001b[0m\u001b[0;34m,\u001b[0m\u001b[0;34m\u001b[0m\u001b[0m\n\u001b[0;32m-> 1306\u001b[0;31m                                    status, run_metadata)\n\u001b[0m\u001b[1;32m   1307\u001b[0m \u001b[0;34m\u001b[0m\u001b[0m\n\u001b[1;32m   1308\u001b[0m     \u001b[0;32mdef\u001b[0m \u001b[0m_prun_fn\u001b[0m\u001b[0;34m(\u001b[0m\u001b[0msession\u001b[0m\u001b[0;34m,\u001b[0m \u001b[0mhandle\u001b[0m\u001b[0;34m,\u001b[0m \u001b[0mfeed_dict\u001b[0m\u001b[0;34m,\u001b[0m \u001b[0mfetch_list\u001b[0m\u001b[0;34m)\u001b[0m\u001b[0;34m:\u001b[0m\u001b[0;34m\u001b[0m\u001b[0m\n",
      "\u001b[0;31mKeyboardInterrupt\u001b[0m: "
     ]
    }
   ],
   "source": [
    "train_images_2=np.array(train_images)\n",
    "train_labels_2=np.array(train_labels)\n",
    "model.fit(train_images,train_labels,batch_size=16,epochs=10,validation_data=(test_images,test_labels),class_weight=class_weighting)"
   ]
  },
  {
   "cell_type": "code",
   "execution_count": null,
   "metadata": {
    "collapsed": true
   },
   "outputs": [],
   "source": []
  },
  {
   "cell_type": "code",
   "execution_count": null,
   "metadata": {
    "collapsed": true
   },
   "outputs": [],
   "source": []
  },
  {
   "cell_type": "code",
   "execution_count": null,
   "metadata": {
    "collapsed": true
   },
   "outputs": [],
   "source": []
  },
  {
   "cell_type": "code",
   "execution_count": 11,
   "metadata": {
    "collapsed": true
   },
   "outputs": [],
   "source": [
    "model.save_weights(\"weights.h5\")"
   ]
  },
  {
   "cell_type": "code",
   "execution_count": 55,
   "metadata": {
    "collapsed": true
   },
   "outputs": [],
   "source": [
    "testing_image = ndimage.imread('Dataset/testing_image_4.png',mode = 'L')"
   ]
  },
  {
   "cell_type": "code",
   "execution_count": 56,
   "metadata": {},
   "outputs": [
    {
     "name": "stdout",
     "output_type": "stream",
     "text": [
      "496\n"
     ]
    }
   ],
   "source": [
    "testing_image = np.array(testing_image)\n",
    "print(testing_image.shape[0])"
   ]
  },
  {
   "cell_type": "code",
   "execution_count": 57,
   "metadata": {
    "collapsed": true
   },
   "outputs": [],
   "source": [
    "testing_image = testing_image.reshape(1,496,64,1)"
   ]
  },
  {
   "cell_type": "code",
   "execution_count": 58,
   "metadata": {
    "collapsed": true
   },
   "outputs": [],
   "source": [
    "prediction = model.predict(testing_image)"
   ]
  },
  {
   "cell_type": "code",
   "execution_count": 59,
   "metadata": {},
   "outputs": [
    {
     "name": "stdout",
     "output_type": "stream",
     "text": [
      "(1, 496, 64, 8)\n"
     ]
    }
   ],
   "source": [
    "print(prediction.shape)"
   ]
  },
  {
   "cell_type": "code",
   "execution_count": 60,
   "metadata": {
    "collapsed": true
   },
   "outputs": [],
   "source": [
    "prediction = np.squeeze(prediction,axis = 0)"
   ]
  },
  {
   "cell_type": "code",
   "execution_count": 61,
   "metadata": {},
   "outputs": [
    {
     "name": "stdout",
     "output_type": "stream",
     "text": [
      "(496, 64, 8)\n"
     ]
    }
   ],
   "source": [
    "print(prediction.shape)\n"
   ]
  },
  {
   "cell_type": "code",
   "execution_count": 62,
   "metadata": {},
   "outputs": [
    {
     "name": "stdout",
     "output_type": "stream",
     "text": [
      "[[[  9.90431845e-01   5.23849914e-04   2.38480396e-03 ...,   3.14290333e-03\n",
      "     7.15359987e-04   9.47752633e-05]\n",
      "  [  9.95876908e-01   1.26564744e-04   5.17529435e-04 ...,   2.05338211e-03\n",
      "     3.22114036e-04   4.62890821e-05]\n",
      "  [  9.91709769e-01   3.47106252e-04   1.40436867e-03 ...,   3.52300471e-03\n",
      "     4.66498459e-04   1.45449289e-04]\n",
      "  ..., \n",
      "  [  9.93215978e-01   2.89540971e-04   1.14223047e-03 ...,   2.86238850e-03\n",
      "     4.15960822e-04   1.21896235e-04]\n",
      "  [  9.94165242e-01   1.88748279e-04   9.98849748e-04 ...,   2.88870698e-03\n",
      "     5.12290921e-04   5.69161930e-05]\n",
      "  [  9.77184176e-01   1.62097695e-03   5.97098330e-03 ...,   8.09637923e-03\n",
      "     1.31334132e-03   5.07012708e-04]]\n",
      "\n",
      " [[  9.90255058e-01   3.38861166e-04   1.74046448e-03 ...,   4.34618024e-03\n",
      "     1.35297398e-03   1.18468612e-04]\n",
      "  [  9.95023370e-01   1.01163852e-04   3.01213498e-04 ...,   2.36597634e-03\n",
      "     9.77306976e-04   7.58161477e-05]\n",
      "  [  9.88762558e-01   4.33083362e-04   1.21312588e-03 ...,   5.10587031e-03\n",
      "     1.09717529e-03   2.63440015e-04]\n",
      "  ..., \n",
      "  [  9.91281629e-01   3.42571380e-04   9.18625679e-04 ...,   3.90662067e-03\n",
      "     8.95616191e-04   2.10764672e-04]\n",
      "  [  9.93597388e-01   1.58802737e-04   3.77169432e-04 ...,   3.55895376e-03\n",
      "     1.00448204e-03   9.56160293e-05]\n",
      "  [  9.84181404e-01   8.47313553e-04   3.29919416e-03 ...,   7.02520646e-03\n",
      "     1.48526952e-03   2.46619573e-04]]\n",
      "\n",
      " [[  9.74529088e-01   1.21575373e-03   4.12007654e-03 ...,   1.18069425e-02\n",
      "     3.39906197e-03   2.07784149e-04]\n",
      "  [  9.90355372e-01   1.86323290e-04   5.50398894e-04 ...,   5.00425138e-03\n",
      "     2.17842031e-03   5.41268673e-05]\n",
      "  [  9.78334606e-01   8.60139553e-04   2.12629605e-03 ...,   1.12865148e-02\n",
      "     2.77075032e-03   2.52791593e-04]\n",
      "  ..., \n",
      "  [  9.83236134e-01   6.94643648e-04   1.56729110e-03 ...,   8.49746075e-03\n",
      "     2.30723177e-03   2.13592415e-04]\n",
      "  [  9.83772814e-01   4.62632335e-04   8.58771964e-04 ...,   9.48271807e-03\n",
      "     2.97520170e-03   1.66534373e-04]\n",
      "  [  9.70981836e-01   1.66576635e-03   4.81727673e-03 ...,   1.36180576e-02\n",
      "     3.62858782e-03   3.86472471e-04]]\n",
      "\n",
      " ..., \n",
      " [[  9.35610414e-01   1.08410632e-02   1.88477654e-02 ...,   1.36803668e-02\n",
      "     4.30256780e-03   2.60322005e-03]\n",
      "  [  9.39385593e-01   1.32400952e-02   1.94174219e-02 ...,   1.22866249e-02\n",
      "     2.79524969e-03   1.33786676e-03]\n",
      "  [  9.21719193e-01   1.81544051e-02   2.51135882e-02 ...,   1.53281745e-02\n",
      "     3.10707092e-03   1.35587540e-03]\n",
      "  ..., \n",
      "  [  9.39390004e-01   1.46924844e-02   1.78972241e-02 ...,   1.28695564e-02\n",
      "     2.74265511e-03   1.00809371e-03]\n",
      "  [  9.53405738e-01   1.02786161e-02   1.31759392e-02 ...,   1.16282357e-02\n",
      "     2.59682676e-03   9.56178759e-04]\n",
      "  [  9.40995097e-01   9.32195224e-03   1.65981501e-02 ...,   1.46331051e-02\n",
      "     4.64907149e-03   2.39924761e-03]]\n",
      "\n",
      " [[  9.35710251e-01   8.82554706e-03   1.80705097e-02 ...,   1.45533094e-02\n",
      "     5.01212943e-03   3.22904368e-03]\n",
      "  [  9.42313135e-01   1.03421314e-02   1.74628738e-02 ...,   1.26807513e-02\n",
      "     3.60166538e-03   1.94576941e-03]\n",
      "  [  9.27808166e-01   1.45627605e-02   2.14146730e-02 ...,   1.58059113e-02\n",
      "     3.91027471e-03   1.74122292e-03]\n",
      "  ..., \n",
      "  [  9.41626608e-01   1.15386834e-02   1.72992889e-02 ...,   1.23937000e-02\n",
      "     3.32949962e-03   1.52602140e-03]\n",
      "  [  9.52535748e-01   8.70242342e-03   1.32798329e-02 ...,   1.21384030e-02\n",
      "     3.22847255e-03   1.34360127e-03]\n",
      "  [  9.28587019e-01   1.02902604e-02   1.85933243e-02 ...,   1.81699209e-02\n",
      "     5.62000927e-03   3.50589771e-03]]\n",
      "\n",
      " [[  9.10407841e-01   1.02036027e-02   2.61319485e-02 ...,   1.98036041e-02\n",
      "     6.61617937e-03   5.62639721e-03]\n",
      "  [  9.23993826e-01   1.14721227e-02   2.22188327e-02 ...,   1.70544311e-02\n",
      "     5.09488583e-03   3.53984325e-03]\n",
      "  [  9.24438477e-01   1.18975407e-02   2.22453475e-02 ...,   1.77026223e-02\n",
      "     4.98476950e-03   2.73528113e-03]\n",
      "  ..., \n",
      "  [  9.31796908e-01   9.85012203e-03   2.00748146e-02 ...,   1.74492002e-02\n",
      "     4.74172458e-03   2.67803459e-03]\n",
      "  [  9.40884888e-01   8.53689015e-03   1.60142053e-02 ...,   1.56390071e-02\n",
      "     4.78343479e-03   2.42307270e-03]\n",
      "  [  9.06518459e-01   1.16982171e-02   2.40787175e-02 ...,   2.22525187e-02\n",
      "     8.14915914e-03   5.75513532e-03]]]\n"
     ]
    }
   ],
   "source": [
    "print (prediction)"
   ]
  },
  {
   "cell_type": "code",
   "execution_count": 63,
   "metadata": {},
   "outputs": [
    {
     "name": "stdout",
     "output_type": "stream",
     "text": [
      "[ 0.18668322  0.02075981  0.07049716  0.08813264  0.0905104   0.37279558\n",
      "  0.11087015  0.059751  ]\n"
     ]
    }
   ],
   "source": [
    "print(prediction[260][45])"
   ]
  },
  {
   "cell_type": "code",
   "execution_count": 64,
   "metadata": {},
   "outputs": [
    {
     "name": "stdout",
     "output_type": "stream",
     "text": [
      "3\n"
     ]
    }
   ],
   "source": [
    "s = [1,2,3,4]\n",
    "print(np.argmax(s))"
   ]
  },
  {
   "cell_type": "code",
   "execution_count": 65,
   "metadata": {},
   "outputs": [
    {
     "name": "stdout",
     "output_type": "stream",
     "text": [
      "(496, 64, 8)\n"
     ]
    }
   ],
   "source": [
    "print(prediction.shape)"
   ]
  },
  {
   "cell_type": "code",
   "execution_count": 66,
   "metadata": {
    "collapsed": true
   },
   "outputs": [],
   "source": [
    "output = np.zeros((496,64))"
   ]
  },
  {
   "cell_type": "code",
   "execution_count": 67,
   "metadata": {
    "collapsed": true
   },
   "outputs": [],
   "source": [
    "for i in range(496):\n",
    "    for j in range(64):\n",
    "        index = np.argmax(prediction[i][j])\n",
    "        output[i][j] = index"
   ]
  },
  {
   "cell_type": "code",
   "execution_count": 68,
   "metadata": {},
   "outputs": [
    {
     "name": "stdout",
     "output_type": "stream",
     "text": [
      "(496, 64)\n"
     ]
    }
   ],
   "source": [
    "print (output.shape)"
   ]
  },
  {
   "cell_type": "code",
   "execution_count": 69,
   "metadata": {
    "collapsed": true
   },
   "outputs": [],
   "source": [
    "color= np.zeros((496,64,3))"
   ]
  },
  {
   "cell_type": "code",
   "execution_count": 70,
   "metadata": {
    "collapsed": true
   },
   "outputs": [],
   "source": [
    "for j in range(496):\n",
    "    for k in range(64):\n",
    "        if(output[j][k]==0):\n",
    "            color[j][k] = [0,0,0]\n",
    "        if(output[j][k]==1):\n",
    "            color[j][k] = [128,0,0]\n",
    "        if(output[j][k]==2):\n",
    "            color[j][k] = [0,128,0]\n",
    "        if(output[j][k]==3):\n",
    "            color[j][k] = [128,128,0] \n",
    "        if(output[j][k]==4):\n",
    "            color[j][k] = [0,128,128]\n",
    "        if(output[j][k]==5):\n",
    "            color[j][k] = [64,0,0]\n",
    "        if(output[j][k]==6):\n",
    "            color[j][k] = [192,0,0]\n",
    "        if(output[j][k]==7):\n",
    "            color[j][k] = [64,128,0]"
   ]
  },
  {
   "cell_type": "code",
   "execution_count": 71,
   "metadata": {},
   "outputs": [
    {
     "data": {
      "text/plain": [
       "<matplotlib.image.AxesImage at 0x7f84257fba50>"
      ]
     },
     "execution_count": 71,
     "metadata": {},
     "output_type": "execute_result"
    }
   ],
   "source": [
    "plt.imshow(color)"
   ]
  },
  {
   "cell_type": "code",
   "execution_count": 72,
   "metadata": {},
   "outputs": [
    {
     "data": {
      "image/png": "[encoded data removed]",
      "text/plain": [
       "<matplotlib.figure.Figure at 0x7f84258bd3d0>"
      ]
     },
     "metadata": {},
     "output_type": "display_data"
    }
   ],
   "source": [
    "plt.show()"
   ]
  },
  {
   "cell_type": "code",
   "execution_count": null,
   "metadata": {
    "collapsed": true
   },
   "outputs": [],
   "source": []
  }
 ],
 "metadata": {
  "kernelspec": {
   "display_name": "Python 2",
   "language": "python",
   "name": "python2"
  },
  "language_info": {
   "codemirror_mode": {
    "name": "ipython",
    "version": 2
   },
   "file_extension": ".py",
   "mimetype": "text/x-python",
   "name": "python",
   "nbconvert_exporter": "python",
   "pygments_lexer": "ipython2",
   "version": "2.7.12"
  }
 },
 "nbformat": 4,
 "nbformat_minor": 2
}
