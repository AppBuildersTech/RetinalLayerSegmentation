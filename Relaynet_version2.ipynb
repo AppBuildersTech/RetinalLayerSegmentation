{
 "cells": [
  {
   "cell_type": "code",
   "execution_count": 1,
   "metadata": {},
   "outputs": [
    {
     "name": "stderr",
     "output_type": "stream",
     "text": [
      "Using TensorFlow backend.\n"
     ]
    }
   ],
   "source": [
    "import keras\n",
    "from keras.layers import Activation\n",
    "from keras.layers import Conv2D, MaxPooling2D\n",
    "from keras.models import Model\n",
    "from keras.layers import Input\n",
    "from keras.layers import BatchNormalization\n",
    "from keras.layers import UpSampling2D\n",
    "from keras.layers import Concatenate\n",
    "from keras.layers import Lambda \n",
    "from keras.layers import Reshape\n",
    "import tensorflow as tf\n",
    "\n",
    "from keras import regularizers, optimizers\n",
    "\n",
    "from keras import backend as K\n",
    "from keras.preprocessing.image import ImageDataGenerator"
   ]
  },
  {
   "cell_type": "code",
   "execution_count": 2,
   "metadata": {
    "collapsed": true
   },
   "outputs": [],
   "source": [
    "import scipy.io as scio\n",
    "import numpy as np    \n",
    "import os\n",
    "import matplotlib.pyplot as plt\n",
    "from scipy.misc import imsave\n",
    "from scipy import ndimage, misc\n",
    "from numpy import unravel_index\n",
    "from operator import sub"
   ]
  },
  {
   "cell_type": "code",
   "execution_count": 3,
   "metadata": {
    "collapsed": true
   },
   "outputs": [],
   "source": [
    "images = []\n",
    "for root, dirnames, filenames in os.walk(\"Dataset/Train_images/\"):\n",
    "    for filename in filenames:\n",
    "        filepath = os.path.join(root, filename)\n",
    "        image = ndimage.imread(filepath, mode=\"L\")\n",
    "        images.append(image)"
   ]
  },
  {
   "cell_type": "code",
   "execution_count": 4,
   "metadata": {},
   "outputs": [
    {
     "name": "stdout",
     "output_type": "stream",
     "text": [
      "(496, 64)\n"
     ]
    }
   ],
   "source": [
    "print (images[0].shape)"
   ]
  },
  {
   "cell_type": "code",
   "execution_count": 5,
   "metadata": {
    "collapsed": true
   },
   "outputs": [],
   "source": [
    "labels = np.load('train_labels.npy')\n",
    "labels_list = []\n",
    "for i in range(len(labels)):\n",
    "    labels_list.append(labels[i])"
   ]
  },
  {
   "cell_type": "code",
   "execution_count": 6,
   "metadata": {},
   "outputs": [
    {
     "data": {
      "text/plain": [
       "(496, 64, 8)"
      ]
     },
     "execution_count": 6,
     "metadata": {},
     "output_type": "execute_result"
    }
   ],
   "source": [
    "labels_list[0].shape"
   ]
  },
  {
   "cell_type": "code",
   "execution_count": 7,
   "metadata": {},
   "outputs": [
    {
     "name": "stdout",
     "output_type": "stream",
     "text": [
      "770\n",
      "<type 'numpy.ndarray'>\n",
      "770\n",
      "(496, 64, 1)\n",
      "[0, 1, 2, 3, 5, 7, 8, 9, 10, 11, 12, 13, 14, 15, 16, 17, 18, 19, 20, 21, 22, 23, 24, 25, 26, 27, 29, 31, 32, 33, 35, 36, 37, 38, 39, 40, 41, 42, 43, 44, 45, 46, 47, 48, 49, 50, 51, 52, 53, 54, 55, 56, 58, 59, 60, 61, 62, 63, 64, 65, 66, 68, 69, 70, 71, 72, 73, 74, 75, 76, 77, 78, 79, 80, 81, 82, 83, 84, 85, 86, 87, 89, 90, 91, 93, 94, 95, 96, 97, 98, 99, 100, 101, 102, 103, 104, 105, 107, 108, 109, 110, 111, 112, 113, 116, 117, 118, 119, 120, 122, 123, 124, 125, 126, 127, 128, 130, 131, 132, 133, 134, 135, 136, 137, 138, 139, 140, 141, 142, 143, 145, 146, 147, 148, 149, 150, 151, 152, 153, 154, 155, 156, 157, 158, 160, 161, 162, 163, 164, 165, 166, 167, 168, 169, 170, 171, 172, 173, 174, 175, 176, 177, 178, 179, 180, 181, 182, 183, 184, 186, 187, 188, 189, 190, 191, 192, 193, 194, 195, 197, 198, 199, 200, 201, 202, 203, 204, 205, 206, 207, 208, 209, 210, 211, 212, 213, 214, 215, 216, 217, 219, 220, 221, 222, 224, 225, 226, 227, 228, 231, 232, 233, 234, 235, 236, 237, 238, 239, 242, 243, 244, 245, 246, 247, 248, 249, 250, 252, 253, 254, 255, 256, 257, 260, 261, 262, 263, 264, 265, 266, 267, 268, 269, 270, 271, 272, 273, 274, 276, 278, 279, 280, 281, 283, 284, 285, 286, 287, 288, 289, 291, 292, 293, 294, 295, 296, 297, 298, 299, 300, 301, 302, 303, 304, 305, 307, 308, 309, 310, 311, 312, 313, 315, 317, 318, 319, 320, 321, 322, 323, 324, 326, 327, 328, 329, 331, 333, 334, 335, 336, 337, 338, 339, 340, 341, 342, 343, 344, 345, 346, 347, 348, 349, 350, 351, 352, 353, 354, 355, 356, 357, 358, 359, 360, 361, 362, 363, 364, 365, 366, 368, 369, 370, 371, 373, 375, 376, 377, 378, 379, 380, 381, 382, 383, 384, 385, 386, 387, 388, 389, 391, 392, 393, 395, 396, 397, 398, 399, 400, 401, 402, 403, 404, 405, 406, 407, 408, 409, 410, 411, 412, 413, 414, 415, 416, 417, 418, 419, 420, 421, 422, 423, 425, 426, 427, 428, 430, 431, 432, 433, 434, 435, 436, 437, 438, 439, 440, 441, 442, 443, 444, 446, 447, 448, 449, 450, 451, 452, 453, 454, 455, 456, 457, 458, 459, 460, 462, 463, 464, 465, 466, 467, 468, 469, 470, 471, 472, 473, 474, 475, 476, 477, 478, 479, 480, 481, 482, 483, 484, 485, 486, 487, 488, 489, 490, 492, 493, 494, 495, 496, 497, 498, 499, 500, 501, 502, 503, 504, 505, 506, 507, 508, 509, 510, 511, 512, 513, 514, 515, 516, 517, 518, 519, 520, 521, 522, 523, 524, 525, 526, 527, 528, 529, 530, 531, 533, 534, 535, 537, 538, 539, 540, 541, 543, 544, 545, 546, 548, 549, 550, 551, 552, 553, 554, 555, 556, 557, 558, 559, 560, 561, 562, 563, 565, 566, 567, 568, 570, 571, 572, 573, 574, 575, 576, 577, 578, 579, 580, 581, 582, 584, 585, 587, 588, 589, 590, 591, 592, 593, 594, 595, 596, 597, 598, 599, 600, 601, 602, 603, 604, 605, 606, 607, 608, 609, 610, 611, 612, 613, 614, 615, 616, 617, 618, 619, 620, 621, 622, 623, 624, 625, 626, 627, 628, 629, 630, 631, 632, 633, 634, 635, 636, 637, 638, 639, 640, 641, 642, 643, 644, 645, 646, 648, 649, 650, 651, 652, 653, 654, 655, 656, 658, 659, 660, 663, 664, 665, 666, 667, 668, 670, 671, 672, 673, 674, 675, 677, 678, 680, 681, 682, 683, 684, 685, 686, 687, 688, 689, 690, 693, 694, 695, 696, 697, 698, 699, 700, 701, 702, 703, 704, 705, 707, 708, 709, 710, 711, 713, 714, 715, 716, 717, 718, 719, 720, 721, 722, 723, 725, 726, 727, 728, 729, 730, 732, 733, 734, 735, 736, 737, 738, 739, 741, 742, 743, 744, 745, 746, 747, 748, 750, 751, 752, 753, 754, 755, 756, 757, 758, 759, 760, 761, 762, 763, 764, 765, 766, 767, 768, 769]\n",
      "[4, 6, 28, 30, 34, 57, 67, 88, 92, 106, 114, 115, 121, 129, 144, 159, 185, 196, 218, 223, 229, 230, 240, 241, 251, 258, 259, 275, 277, 282, 290, 306, 314, 316, 325, 330, 332, 367, 372, 374, 390, 394, 424, 429, 445, 461, 491, 532, 536, 542, 547, 564, 569, 583, 586, 647, 657, 661, 662, 669, 676, 679, 691, 692, 706, 712, 724, 731, 740, 749]\n"
     ]
    }
   ],
   "source": [
    "print (len(labels_list))\n",
    "print (type(labels_list[0]))\n",
    "\n",
    "images=np.array(images)\n",
    "print(images.shape[0])\n",
    "images = images.reshape(images.shape[0],496,64,1)\n",
    "\n",
    "#Increased the Size of training data\n",
    "print(images[0].shape)\n",
    "train_indices = np.random.choice(770,700,replace = False)\n",
    "print(sorted(train_indices))\n",
    "train_images = []\n",
    "train_labels = [] \n",
    "for i in train_indices:\n",
    "    train_images.append(images[i])\n",
    "    train_labels.append(labels_list[i])\n",
    "\n",
    "test_indices = [x for x in range(770) if x not in train_indices]\n",
    "print(test_indices)\n",
    "test_images = []\n",
    "test_labels = []\n",
    "#Corrected the varaible name\n",
    "for i in test_indices:\n",
    "    test_images.append(images[i])\n",
    "    test_labels.append(labels_list[i])"
   ]
  },
  {
   "cell_type": "code",
   "execution_count": 8,
   "metadata": {},
   "outputs": [
    {
     "name": "stdout",
     "output_type": "stream",
     "text": [
      "700\n",
      "700\n",
      "(700, 496, 64, 8)\n"
     ]
    }
   ],
   "source": [
    "print (len(train_images))\n",
    "print (len(train_labels))\n",
    "print (np.array(train_labels).shape)"
   ]
  },
  {
   "cell_type": "code",
   "execution_count": 9,
   "metadata": {
    "collapsed": true
   },
   "outputs": [],
   "source": [
    "train_images = np.array(train_images)\n",
    "test_images = np.array(test_images)"
   ]
  },
  {
   "cell_type": "code",
   "execution_count": 10,
   "metadata": {
    "collapsed": true
   },
   "outputs": [],
   "source": [
    "mean = np.mean(train_images,axis=(0,1,2,3))\n",
    "std = np.std(train_images,axis=(0,1,2,3))\n",
    "train_images = (train_images-mean)/(std+1e-7)\n",
    "test_images = (test_images-mean)/(std+1e-7)"
   ]
  },
  {
   "cell_type": "code",
   "execution_count": 11,
   "metadata": {},
   "outputs": [
    {
     "data": {
      "text/plain": [
       "(700, 496, 64, 8)"
      ]
     },
     "execution_count": 11,
     "metadata": {},
     "output_type": "execute_result"
    }
   ],
   "source": [
    "train_labels = np.array(train_labels)\n",
    "train_labels.shape"
   ]
  },
  {
   "cell_type": "code",
   "execution_count": 12,
   "metadata": {},
   "outputs": [
    {
     "data": {
      "text/plain": [
       "(70, 496, 64, 8)"
      ]
     },
     "execution_count": 12,
     "metadata": {},
     "output_type": "execute_result"
    }
   ],
   "source": [
    "test_labels = np.array(test_labels)\n",
    "test_labels.shape"
   ]
  },
  {
   "cell_type": "code",
   "execution_count": 10,
   "metadata": {
    "collapsed": true
   },
   "outputs": [],
   "source": [
    "data_shape = 496*64"
   ]
  },
  {
   "cell_type": "code",
   "execution_count": 14,
   "metadata": {},
   "outputs": [
    {
     "data": {
      "text/plain": [
       "(700, 31744, 8)"
      ]
     },
     "execution_count": 14,
     "metadata": {},
     "output_type": "execute_result"
    }
   ],
   "source": [
    "train_labels = np.reshape(train_labels,(700,data_shape,8))\n",
    "train_labels.shape"
   ]
  },
  {
   "cell_type": "code",
   "execution_count": 15,
   "metadata": {},
   "outputs": [
    {
     "data": {
      "text/plain": [
       "(70, 31744, 8)"
      ]
     },
     "execution_count": 15,
     "metadata": {},
     "output_type": "execute_result"
    }
   ],
   "source": [
    "#Modified the testing labels shape\n",
    "test_labels = np.reshape(test_labels,(70,data_shape,8))\n",
    "test_labels.shape"
   ]
  },
  {
   "cell_type": "code",
   "execution_count": 4,
   "metadata": {
    "collapsed": true
   },
   "outputs": [],
   "source": [
    "double_layers = True"
   ]
  },
  {
   "cell_type": "code",
   "execution_count": 2,
   "metadata": {
    "collapsed": true
   },
   "outputs": [],
   "source": [
    "weight_decay = 1e-4"
   ]
  },
  {
   "cell_type": "code",
   "execution_count": 12,
   "metadata": {},
   "outputs": [
    {
     "name": "stdout",
     "output_type": "stream",
     "text": [
      "____________________________________________________________________________________________________\n",
      "Layer (type)                     Output Shape          Param #     Connected to                     \n",
      "====================================================================================================\n",
      "input_7 (InputLayer)             (None, 496, 64, 1)    0                                            \n",
      "____________________________________________________________________________________________________\n",
      "conv2d_63 (Conv2D)               (None, 496, 64, 64)   640         input_7[0][0]                    \n",
      "____________________________________________________________________________________________________\n",
      "batch_normalization_61 (BatchNor (None, 496, 64, 64)   256         conv2d_63[0][0]                  \n",
      "____________________________________________________________________________________________________\n",
      "conv2d_64 (Conv2D)               (None, 496, 64, 64)   36928       batch_normalization_61[0][0]     \n",
      "____________________________________________________________________________________________________\n",
      "batch_normalization_62 (BatchNor (None, 496, 64, 64)   256         conv2d_64[0][0]                  \n",
      "____________________________________________________________________________________________________\n",
      "max_pooling2d_19 (MaxPooling2D)  (None, 248, 32, 64)   0           batch_normalization_62[0][0]     \n",
      "____________________________________________________________________________________________________\n",
      "conv2d_65 (Conv2D)               (None, 248, 32, 64)   36928       max_pooling2d_19[0][0]           \n",
      "____________________________________________________________________________________________________\n",
      "batch_normalization_63 (BatchNor (None, 248, 32, 64)   256         conv2d_65[0][0]                  \n",
      "____________________________________________________________________________________________________\n",
      "conv2d_66 (Conv2D)               (None, 248, 32, 64)   36928       batch_normalization_63[0][0]     \n",
      "____________________________________________________________________________________________________\n",
      "batch_normalization_64 (BatchNor (None, 248, 32, 64)   256         conv2d_66[0][0]                  \n",
      "____________________________________________________________________________________________________\n",
      "max_pooling2d_20 (MaxPooling2D)  (None, 124, 16, 64)   0           batch_normalization_64[0][0]     \n",
      "____________________________________________________________________________________________________\n",
      "conv2d_67 (Conv2D)               (None, 124, 16, 64)   36928       max_pooling2d_20[0][0]           \n",
      "____________________________________________________________________________________________________\n",
      "batch_normalization_65 (BatchNor (None, 124, 16, 64)   256         conv2d_67[0][0]                  \n",
      "____________________________________________________________________________________________________\n",
      "conv2d_68 (Conv2D)               (None, 124, 16, 64)   36928       batch_normalization_65[0][0]     \n",
      "____________________________________________________________________________________________________\n",
      "batch_normalization_66 (BatchNor (None, 124, 16, 64)   256         conv2d_68[0][0]                  \n",
      "____________________________________________________________________________________________________\n",
      "max_pooling2d_21 (MaxPooling2D)  (None, 62, 8, 64)     0           batch_normalization_66[0][0]     \n",
      "____________________________________________________________________________________________________\n",
      "conv2d_69 (Conv2D)               (None, 62, 8, 64)     36928       max_pooling2d_21[0][0]           \n",
      "____________________________________________________________________________________________________\n",
      "batch_normalization_67 (BatchNor (None, 62, 8, 64)     256         conv2d_69[0][0]                  \n",
      "____________________________________________________________________________________________________\n",
      "conv2d_70 (Conv2D)               (None, 62, 8, 64)     36928       batch_normalization_67[0][0]     \n",
      "____________________________________________________________________________________________________\n",
      "batch_normalization_68 (BatchNor (None, 62, 8, 64)     256         conv2d_70[0][0]                  \n",
      "____________________________________________________________________________________________________\n",
      "up_sampling2d_11 (UpSampling2D)  (None, 124, 16, 64)   0           batch_normalization_68[0][0]     \n",
      "____________________________________________________________________________________________________\n",
      "concatenate_11 (Concatenate)     (None, 124, 16, 128)  0           up_sampling2d_11[0][0]           \n",
      "                                                                   batch_normalization_66[0][0]     \n",
      "____________________________________________________________________________________________________\n",
      "conv2d_71 (Conv2D)               (None, 124, 16, 64)   73792       concatenate_11[0][0]             \n",
      "____________________________________________________________________________________________________\n",
      "batch_normalization_69 (BatchNor (None, 124, 16, 64)   256         conv2d_71[0][0]                  \n",
      "____________________________________________________________________________________________________\n",
      "conv2d_72 (Conv2D)               (None, 124, 16, 64)   36928       batch_normalization_69[0][0]     \n",
      "____________________________________________________________________________________________________\n",
      "batch_normalization_70 (BatchNor (None, 124, 16, 64)   256         conv2d_72[0][0]                  \n",
      "____________________________________________________________________________________________________\n",
      "up_sampling2d_12 (UpSampling2D)  (None, 248, 32, 64)   0           batch_normalization_70[0][0]     \n",
      "____________________________________________________________________________________________________\n",
      "concatenate_12 (Concatenate)     (None, 248, 32, 128)  0           up_sampling2d_12[0][0]           \n",
      "                                                                   batch_normalization_64[0][0]     \n",
      "____________________________________________________________________________________________________\n",
      "conv2d_73 (Conv2D)               (None, 248, 32, 64)   73792       concatenate_12[0][0]             \n",
      "____________________________________________________________________________________________________\n",
      "batch_normalization_71 (BatchNor (None, 248, 32, 64)   256         conv2d_73[0][0]                  \n",
      "____________________________________________________________________________________________________\n",
      "conv2d_74 (Conv2D)               (None, 248, 32, 64)   36928       batch_normalization_71[0][0]     \n",
      "____________________________________________________________________________________________________\n",
      "batch_normalization_72 (BatchNor (None, 248, 32, 64)   256         conv2d_74[0][0]                  \n",
      "____________________________________________________________________________________________________\n",
      "up_sampling2d_13 (UpSampling2D)  (None, 496, 64, 64)   0           batch_normalization_72[0][0]     \n",
      "____________________________________________________________________________________________________\n",
      "concatenate_13 (Concatenate)     (None, 496, 64, 128)  0           up_sampling2d_13[0][0]           \n",
      "                                                                   batch_normalization_62[0][0]     \n",
      "____________________________________________________________________________________________________\n",
      "conv2d_75 (Conv2D)               (None, 496, 64, 64)   73792       concatenate_13[0][0]             \n",
      "____________________________________________________________________________________________________\n",
      "batch_normalization_73 (BatchNor (None, 496, 64, 64)   256         conv2d_75[0][0]                  \n",
      "____________________________________________________________________________________________________\n",
      "conv2d_76 (Conv2D)               (None, 496, 64, 64)   36928       batch_normalization_73[0][0]     \n",
      "____________________________________________________________________________________________________\n",
      "batch_normalization_74 (BatchNor (None, 496, 64, 64)   256         conv2d_76[0][0]                  \n",
      "____________________________________________________________________________________________________\n",
      "conv2d_77 (Conv2D)               (None, 496, 64, 8)    520         batch_normalization_74[0][0]     \n",
      "____________________________________________________________________________________________________\n",
      "reshape_2 (Reshape)              (None, 31744, 8)      0           conv2d_77[0][0]                  \n",
      "____________________________________________________________________________________________________\n",
      "activation_1 (Activation)        (None, 31744, 8)      0           reshape_2[0][0]                  \n",
      "====================================================================================================\n",
      "Total params: 595,400\n",
      "Trainable params: 593,608\n",
      "Non-trainable params: 1,792\n",
      "____________________________________________________________________________________________________\n"
     ]
    }
   ],
   "source": [
    "\n",
    "if double_layers :\n",
    "    # Defines the input tensor\n",
    "    inputs = Input(shape=(496,64,1))\n",
    "\n",
    "    #Down Sampling Block1\n",
    "    L = Conv2D(64,kernel_size=(3,3),activation = 'relu',padding = \"same\",\n",
    "               kernel_regularizer=regularizers.l2(weight_decay))(inputs)\n",
    "    L = BatchNormalization()(L)\n",
    "    L = Conv2D(64,kernel_size=(3,3),activation = 'relu',padding = \"same\",\n",
    "               kernel_regularizer=regularizers.l2(weight_decay))(L)\n",
    "    L1 = BatchNormalization()(L)\n",
    "    L = MaxPooling2D(pool_size=(2,2))(L1)\n",
    "    \n",
    "    #Down Sampling Block2\n",
    "    L = Conv2D(64,kernel_size=(3,3),activation = 'relu',padding = \"same\",\n",
    "               kernel_regularizer=regularizers.l2(weight_decay))(L)\n",
    "    L = BatchNormalization()(L)\n",
    "    L = Conv2D(64,kernel_size=(3,3),activation = 'relu',padding = \"same\",\n",
    "               kernel_regularizer=regularizers.l2(weight_decay))(L)\n",
    "    L2 = BatchNormalization()(L)\n",
    "    L = MaxPooling2D(pool_size=(2,2))(L2)\n",
    "    \n",
    "    #Down Sampling Block3\n",
    "    L = Conv2D(64,kernel_size=(3,3),activation = 'relu',padding = \"same\",\n",
    "               kernel_regularizer=regularizers.l2(weight_decay))(L)\n",
    "    L = BatchNormalization()(L)\n",
    "    L = Conv2D(64,kernel_size=(3,3),activation = 'relu',padding = \"same\",\n",
    "               kernel_regularizer=regularizers.l2(weight_decay))(L)\n",
    "    L3 = BatchNormalization()(L)\n",
    "    L = MaxPooling2D(pool_size=(2,2))(L3)\n",
    "    \n",
    "    \n",
    "    #Up Sampling Block1\n",
    "    L = Conv2D(64,kernel_size=(3,3),activation = 'relu',padding = \"same\",\n",
    "               kernel_regularizer=regularizers.l2(weight_decay))(L)\n",
    "    L = BatchNormalization()(L)\n",
    "    L = Conv2D(64,kernel_size=(3,3),activation = 'relu',padding = \"same\",\n",
    "               kernel_regularizer=regularizers.l2(weight_decay))(L)\n",
    "    L = BatchNormalization()(L)\n",
    "    L = UpSampling2D(size = (2,2))(L)\n",
    "    \n",
    "    #Skip Connection 1\n",
    "    L = Concatenate(axis=3)([L,L3])\n",
    "    \n",
    "    #UpSampling Block2\n",
    "    L = Conv2D(64,kernel_size=(3,3),activation = 'relu',padding = \"same\",\n",
    "               kernel_regularizer=regularizers.l2(weight_decay))(L)\n",
    "    L = BatchNormalization()(L)\n",
    "    L = Conv2D(64,kernel_size=(3,3),activation = 'relu',padding = \"same\",\n",
    "               kernel_regularizer=regularizers.l2(weight_decay))(L)\n",
    "    L = BatchNormalization()(L)\n",
    "    L = UpSampling2D(size = (2,2))(L)\n",
    "    \n",
    "    #Skip Connection 2\n",
    "    L = Concatenate(axis=3)([L,L2])\n",
    "    \n",
    "    #Up Sampling Block3\n",
    "    L = Conv2D(64,kernel_size=(3,3),activation = 'relu',padding = \"same\",\n",
    "               kernel_regularizer=regularizers.l2(weight_decay))(L)\n",
    "    L = BatchNormalization()(L)\n",
    "    L = Conv2D(64,kernel_size=(3,3),activation = 'relu',padding = \"same\",\n",
    "               kernel_regularizer=regularizers.l2(weight_decay))(L)\n",
    "    L = BatchNormalization()(L)\n",
    "    L = UpSampling2D(size = (2,2))(L)\n",
    "    \n",
    "    #Skip Connection 3\n",
    "    L = Concatenate(axis = 3)([L,L1])\n",
    "    \n",
    "    \n",
    "    #Final Conv Block\n",
    "    L = Conv2D(64,kernel_size=(3,3),activation = 'relu',padding = \"same\",\n",
    "               kernel_regularizer=regularizers.l2(weight_decay))(L)\n",
    "    L = BatchNormalization()(L)\n",
    "    L = Conv2D(64,kernel_size=(3,3),activation = 'relu',padding = \"same\",\n",
    "               kernel_regularizer=regularizers.l2(weight_decay))(L)\n",
    "    L = BatchNormalization()(L)\n",
    "    \n",
    "    #Classifier Block\n",
    "    L = Conv2D(8,kernel_size=(1,1),padding = \"same\")(L)\n",
    "    L = Reshape((data_shape,8),input_shape = (496,64,8))(L)\n",
    "    L = Activation('softmax')(L)\n",
    "\n",
    "    #Returning Model\n",
    "    model = Model(inputs = inputs, outputs = L)\n",
    "    model.summary()\n"
   ]
  },
  {
   "cell_type": "code",
   "execution_count": 21,
   "metadata": {
    "collapsed": true
   },
   "outputs": [],
   "source": [
    "smooth = 1"
   ]
  },
  {
   "cell_type": "code",
   "execution_count": 22,
   "metadata": {
    "collapsed": true
   },
   "outputs": [],
   "source": [
    "def dice_coef(y_true, y_pred):\n",
    "    y_true_f = K.flatten(y_true)\n",
    "    y_pred_f = K.flatten(y_pred)\n",
    "    intersection = K.sum(y_true_f * y_pred_f)\n",
    "    \n",
    "    return (2. * intersection + smooth) / (K.sum(y_true_f) + K.sum(y_pred_f) + smooth)"
   ]
  },
  {
   "cell_type": "code",
   "execution_count": 23,
   "metadata": {
    "collapsed": true
   },
   "outputs": [],
   "source": [
    "def dice_coef_loss(y_true, y_pred):\n",
    "    return -dice_coef(y_true, y_pred)"
   ]
  },
  {
   "cell_type": "code",
   "execution_count": 24,
   "metadata": {
    "collapsed": true
   },
   "outputs": [],
   "source": [
    "model.compile(optimizer='Adam',loss='categorical_crossentropy',metrics=['accuracy',dice_coef])"
   ]
  },
  {
   "cell_type": "code",
   "execution_count": 25,
   "metadata": {
    "collapsed": true
   },
   "outputs": [],
   "source": [
    "data_augmentation = True"
   ]
  },
  {
   "cell_type": "code",
   "execution_count": 26,
   "metadata": {},
   "outputs": [
    {
     "name": "stdout",
     "output_type": "stream",
     "text": [
      "-------------Using Data augmentation------------\n",
      "Epoch 1/10\n"
     ]
    },
    {
     "ename": "KeyboardInterrupt",
     "evalue": "",
     "output_type": "error",
     "traceback": [
      "\u001b[0;31m---------------------------------------------------------------------------\u001b[0m",
      "\u001b[0;31mKeyboardInterrupt\u001b[0m                         Traceback (most recent call last)",
      "\u001b[0;32m<ipython-input-26-a61535949dae>\u001b[0m in \u001b[0;36m<module>\u001b[0;34m()\u001b[0m\n\u001b[1;32m     17\u001b[0m     model.fit_generator(datagen.flow(train_images, train_labels, batch_size=16),\n\u001b[1;32m     18\u001b[0m                         \u001b[0msteps_per_epoch\u001b[0m\u001b[0;34m=\u001b[0m\u001b[0mtrain_images\u001b[0m\u001b[0;34m.\u001b[0m\u001b[0mshape\u001b[0m\u001b[0;34m[\u001b[0m\u001b[0;36m0\u001b[0m\u001b[0;34m]\u001b[0m \u001b[0;34m//\u001b[0m \u001b[0;36m16\u001b[0m\u001b[0;34m,\u001b[0m\u001b[0;34m\u001b[0m\u001b[0m\n\u001b[0;32m---> 19\u001b[0;31m                         epochs=10,verbose=1,validation_data=(test_images,test_labels))\n\u001b[0m\u001b[1;32m     20\u001b[0m \u001b[0;32melse\u001b[0m \u001b[0;34m:\u001b[0m\u001b[0;34m\u001b[0m\u001b[0m\n\u001b[1;32m     21\u001b[0m     \u001b[0mmodel\u001b[0m\u001b[0;34m.\u001b[0m\u001b[0mfit\u001b[0m\u001b[0;34m(\u001b[0m\u001b[0mtrain_images\u001b[0m\u001b[0;34m,\u001b[0m\u001b[0mtrain_labels\u001b[0m\u001b[0;34m,\u001b[0m\u001b[0mbatch_size\u001b[0m\u001b[0;34m=\u001b[0m\u001b[0;36m16\u001b[0m\u001b[0;34m,\u001b[0m\u001b[0mepochs\u001b[0m\u001b[0;34m=\u001b[0m\u001b[0;36m10\u001b[0m\u001b[0;34m,\u001b[0m\u001b[0mvalidation_data\u001b[0m\u001b[0;34m=\u001b[0m\u001b[0;34m(\u001b[0m\u001b[0mtest_images\u001b[0m\u001b[0;34m,\u001b[0m\u001b[0mtest_labels\u001b[0m\u001b[0;34m)\u001b[0m\u001b[0;34m,\u001b[0m\u001b[0mclass_weight\u001b[0m\u001b[0;34m=\u001b[0m\u001b[0mclass_weighting\u001b[0m\u001b[0;34m)\u001b[0m\u001b[0;34m\u001b[0m\u001b[0m\n",
      "\u001b[0;32m/usr/local/lib/python2.7/dist-packages/keras/legacy/interfaces.pyc\u001b[0m in \u001b[0;36mwrapper\u001b[0;34m(*args, **kwargs)\u001b[0m\n\u001b[1;32m     85\u001b[0m                 warnings.warn('Update your `' + object_name +\n\u001b[1;32m     86\u001b[0m                               '` call to the Keras 2 API: ' + signature, stacklevel=2)\n\u001b[0;32m---> 87\u001b[0;31m             \u001b[0;32mreturn\u001b[0m \u001b[0mfunc\u001b[0m\u001b[0;34m(\u001b[0m\u001b[0;34m*\u001b[0m\u001b[0margs\u001b[0m\u001b[0;34m,\u001b[0m \u001b[0;34m**\u001b[0m\u001b[0mkwargs\u001b[0m\u001b[0;34m)\u001b[0m\u001b[0;34m\u001b[0m\u001b[0m\n\u001b[0m\u001b[1;32m     88\u001b[0m         \u001b[0mwrapper\u001b[0m\u001b[0;34m.\u001b[0m\u001b[0m_original_function\u001b[0m \u001b[0;34m=\u001b[0m \u001b[0mfunc\u001b[0m\u001b[0;34m\u001b[0m\u001b[0m\n\u001b[1;32m     89\u001b[0m         \u001b[0;32mreturn\u001b[0m \u001b[0mwrapper\u001b[0m\u001b[0;34m\u001b[0m\u001b[0m\n",
      "\u001b[0;32m/usr/local/lib/python2.7/dist-packages/keras/engine/training.pyc\u001b[0m in \u001b[0;36mfit_generator\u001b[0;34m(self, generator, steps_per_epoch, epochs, verbose, callbacks, validation_data, validation_steps, class_weight, max_queue_size, workers, use_multiprocessing, shuffle, initial_epoch)\u001b[0m\n\u001b[1;32m   2040\u001b[0m                     outs = self.train_on_batch(x, y,\n\u001b[1;32m   2041\u001b[0m                                                \u001b[0msample_weight\u001b[0m\u001b[0;34m=\u001b[0m\u001b[0msample_weight\u001b[0m\u001b[0;34m,\u001b[0m\u001b[0;34m\u001b[0m\u001b[0m\n\u001b[0;32m-> 2042\u001b[0;31m                                                class_weight=class_weight)\n\u001b[0m\u001b[1;32m   2043\u001b[0m \u001b[0;34m\u001b[0m\u001b[0m\n\u001b[1;32m   2044\u001b[0m                     \u001b[0;32mif\u001b[0m \u001b[0;32mnot\u001b[0m \u001b[0misinstance\u001b[0m\u001b[0;34m(\u001b[0m\u001b[0mouts\u001b[0m\u001b[0;34m,\u001b[0m \u001b[0mlist\u001b[0m\u001b[0;34m)\u001b[0m\u001b[0;34m:\u001b[0m\u001b[0;34m\u001b[0m\u001b[0m\n",
      "\u001b[0;32m/usr/local/lib/python2.7/dist-packages/keras/engine/training.pyc\u001b[0m in \u001b[0;36mtrain_on_batch\u001b[0;34m(self, x, y, sample_weight, class_weight)\u001b[0m\n\u001b[1;32m   1760\u001b[0m             \u001b[0mins\u001b[0m \u001b[0;34m=\u001b[0m \u001b[0mx\u001b[0m \u001b[0;34m+\u001b[0m \u001b[0my\u001b[0m \u001b[0;34m+\u001b[0m \u001b[0msample_weights\u001b[0m\u001b[0;34m\u001b[0m\u001b[0m\n\u001b[1;32m   1761\u001b[0m         \u001b[0mself\u001b[0m\u001b[0;34m.\u001b[0m\u001b[0m_make_train_function\u001b[0m\u001b[0;34m(\u001b[0m\u001b[0;34m)\u001b[0m\u001b[0;34m\u001b[0m\u001b[0m\n\u001b[0;32m-> 1762\u001b[0;31m         \u001b[0moutputs\u001b[0m \u001b[0;34m=\u001b[0m \u001b[0mself\u001b[0m\u001b[0;34m.\u001b[0m\u001b[0mtrain_function\u001b[0m\u001b[0;34m(\u001b[0m\u001b[0mins\u001b[0m\u001b[0;34m)\u001b[0m\u001b[0;34m\u001b[0m\u001b[0m\n\u001b[0m\u001b[1;32m   1763\u001b[0m         \u001b[0;32mif\u001b[0m \u001b[0mlen\u001b[0m\u001b[0;34m(\u001b[0m\u001b[0moutputs\u001b[0m\u001b[0;34m)\u001b[0m \u001b[0;34m==\u001b[0m \u001b[0;36m1\u001b[0m\u001b[0;34m:\u001b[0m\u001b[0;34m\u001b[0m\u001b[0m\n\u001b[1;32m   1764\u001b[0m             \u001b[0;32mreturn\u001b[0m \u001b[0moutputs\u001b[0m\u001b[0;34m[\u001b[0m\u001b[0;36m0\u001b[0m\u001b[0;34m]\u001b[0m\u001b[0;34m\u001b[0m\u001b[0m\n",
      "\u001b[0;32m/usr/local/lib/python2.7/dist-packages/keras/backend/tensorflow_backend.pyc\u001b[0m in \u001b[0;36m__call__\u001b[0;34m(self, inputs)\u001b[0m\n\u001b[1;32m   2268\u001b[0m                 \u001b[0mvalue\u001b[0m \u001b[0;34m=\u001b[0m \u001b[0;34m(\u001b[0m\u001b[0mindices\u001b[0m\u001b[0;34m,\u001b[0m \u001b[0msparse_coo\u001b[0m\u001b[0;34m.\u001b[0m\u001b[0mdata\u001b[0m\u001b[0;34m,\u001b[0m \u001b[0msparse_coo\u001b[0m\u001b[0;34m.\u001b[0m\u001b[0mshape\u001b[0m\u001b[0;34m)\u001b[0m\u001b[0;34m\u001b[0m\u001b[0m\n\u001b[1;32m   2269\u001b[0m             \u001b[0mfeed_dict\u001b[0m\u001b[0;34m[\u001b[0m\u001b[0mtensor\u001b[0m\u001b[0;34m]\u001b[0m \u001b[0;34m=\u001b[0m \u001b[0mvalue\u001b[0m\u001b[0;34m\u001b[0m\u001b[0m\n\u001b[0;32m-> 2270\u001b[0;31m         \u001b[0msession\u001b[0m \u001b[0;34m=\u001b[0m \u001b[0mget_session\u001b[0m\u001b[0;34m(\u001b[0m\u001b[0;34m)\u001b[0m\u001b[0;34m\u001b[0m\u001b[0m\n\u001b[0m\u001b[1;32m   2271\u001b[0m         updated = session.run(self.outputs + [self.updates_op],\n\u001b[1;32m   2272\u001b[0m                               \u001b[0mfeed_dict\u001b[0m\u001b[0;34m=\u001b[0m\u001b[0mfeed_dict\u001b[0m\u001b[0;34m,\u001b[0m\u001b[0;34m\u001b[0m\u001b[0m\n",
      "\u001b[0;32m/usr/local/lib/python2.7/dist-packages/keras/backend/tensorflow_backend.pyc\u001b[0m in \u001b[0;36mget_session\u001b[0;34m()\u001b[0m\n\u001b[1;32m    161\u001b[0m                 config = tf.ConfigProto(intra_op_parallelism_threads=num_thread,\n\u001b[1;32m    162\u001b[0m                                         allow_soft_placement=True)\n\u001b[0;32m--> 163\u001b[0;31m             \u001b[0m_SESSION\u001b[0m \u001b[0;34m=\u001b[0m \u001b[0mtf\u001b[0m\u001b[0;34m.\u001b[0m\u001b[0mSession\u001b[0m\u001b[0;34m(\u001b[0m\u001b[0mconfig\u001b[0m\u001b[0;34m=\u001b[0m\u001b[0mconfig\u001b[0m\u001b[0;34m)\u001b[0m\u001b[0;34m\u001b[0m\u001b[0m\n\u001b[0m\u001b[1;32m    164\u001b[0m         \u001b[0msession\u001b[0m \u001b[0;34m=\u001b[0m \u001b[0m_SESSION\u001b[0m\u001b[0;34m\u001b[0m\u001b[0m\n\u001b[1;32m    165\u001b[0m     \u001b[0;32mif\u001b[0m \u001b[0;32mnot\u001b[0m \u001b[0m_MANUAL_VAR_INIT\u001b[0m\u001b[0;34m:\u001b[0m\u001b[0;34m\u001b[0m\u001b[0m\n",
      "\u001b[0;32m/usr/local/lib/python2.7/dist-packages/tensorflow/python/client/session.pyc\u001b[0m in \u001b[0;36m__init__\u001b[0;34m(self, target, graph, config)\u001b[0m\n\u001b[1;32m   1484\u001b[0m \u001b[0;34m\u001b[0m\u001b[0m\n\u001b[1;32m   1485\u001b[0m     \"\"\"\n\u001b[0;32m-> 1486\u001b[0;31m     \u001b[0msuper\u001b[0m\u001b[0;34m(\u001b[0m\u001b[0mSession\u001b[0m\u001b[0;34m,\u001b[0m \u001b[0mself\u001b[0m\u001b[0;34m)\u001b[0m\u001b[0;34m.\u001b[0m\u001b[0m__init__\u001b[0m\u001b[0;34m(\u001b[0m\u001b[0mtarget\u001b[0m\u001b[0;34m,\u001b[0m \u001b[0mgraph\u001b[0m\u001b[0;34m,\u001b[0m \u001b[0mconfig\u001b[0m\u001b[0;34m=\u001b[0m\u001b[0mconfig\u001b[0m\u001b[0;34m)\u001b[0m\u001b[0;34m\u001b[0m\u001b[0m\n\u001b[0m\u001b[1;32m   1487\u001b[0m     \u001b[0;31m# NOTE(mrry): Create these on first `__enter__` to avoid a reference cycle.\u001b[0m\u001b[0;34m\u001b[0m\u001b[0;34m\u001b[0m\u001b[0m\n\u001b[1;32m   1488\u001b[0m     \u001b[0mself\u001b[0m\u001b[0;34m.\u001b[0m\u001b[0m_default_graph_context_manager\u001b[0m \u001b[0;34m=\u001b[0m \u001b[0mNone\u001b[0m\u001b[0;34m\u001b[0m\u001b[0m\n",
      "\u001b[0;32m/usr/local/lib/python2.7/dist-packages/tensorflow/python/client/session.pyc\u001b[0m in \u001b[0;36m__init__\u001b[0;34m(self, target, graph, config)\u001b[0m\n\u001b[1;32m    619\u001b[0m           \u001b[0;31m# pylint: enable=protected-access\u001b[0m\u001b[0;34m\u001b[0m\u001b[0;34m\u001b[0m\u001b[0m\n\u001b[1;32m    620\u001b[0m         \u001b[0;32melse\u001b[0m\u001b[0;34m:\u001b[0m\u001b[0;34m\u001b[0m\u001b[0m\n\u001b[0;32m--> 621\u001b[0;31m           \u001b[0mself\u001b[0m\u001b[0;34m.\u001b[0m\u001b[0m_session\u001b[0m \u001b[0;34m=\u001b[0m \u001b[0mtf_session\u001b[0m\u001b[0;34m.\u001b[0m\u001b[0mTF_NewDeprecatedSession\u001b[0m\u001b[0;34m(\u001b[0m\u001b[0mopts\u001b[0m\u001b[0;34m,\u001b[0m \u001b[0mstatus\u001b[0m\u001b[0;34m)\u001b[0m\u001b[0;34m\u001b[0m\u001b[0m\n\u001b[0m\u001b[1;32m    622\u001b[0m     \u001b[0;32mfinally\u001b[0m\u001b[0;34m:\u001b[0m\u001b[0;34m\u001b[0m\u001b[0m\n\u001b[1;32m    623\u001b[0m       \u001b[0mtf_session\u001b[0m\u001b[0;34m.\u001b[0m\u001b[0mTF_DeleteSessionOptions\u001b[0m\u001b[0;34m(\u001b[0m\u001b[0mopts\u001b[0m\u001b[0;34m)\u001b[0m\u001b[0;34m\u001b[0m\u001b[0m\n",
      "\u001b[0;31mKeyboardInterrupt\u001b[0m: "
     ]
    }
   ],
   "source": [
    "if data_augmentation :\n",
    "    print(\"-------------Using Data augmentation------------\")\n",
    "     # This will do preprocessing and realtime data augmentation:\n",
    "    datagen = ImageDataGenerator(\n",
    "        featurewise_center=False,  # set input mean to 0 over the dataset\n",
    "        samplewise_center=False,  # set each sample mean to 0\n",
    "        featurewise_std_normalization=False,  # divide inputs by std of the dataset\n",
    "        samplewise_std_normalization=False,  # divide each input by its std\n",
    "        zca_whitening=False,  # apply ZCA whitening\n",
    "        rotation_range=0,  # randomly rotate images in the range (degrees, 0 to 180)\n",
    "        width_shift_range=0.1,  # randomly shift images horizontally (fraction of total width)\n",
    "        height_shift_range=0.1,  # randomly shift images vertically (fraction of total height)\n",
    "        horizontal_flip=True,  # randomly flip images\n",
    "        vertical_flip=False)  # randomly flip images\n",
    "    \n",
    "    datagen.fit(train_images)\n",
    "    model.fit_generator(datagen.flow(train_images, train_labels, batch_size=16),\n",
    "                        steps_per_epoch=train_images.shape[0] // 16,\n",
    "                        epochs=10,verbose=1,validation_data=(test_images,test_labels))\n",
    "else :\n",
    "    model.fit(train_images,train_labels,batch_size=16,epochs=10,validation_data=(test_images,test_labels),class_weight=class_weighting)"
   ]
  },
  {
   "cell_type": "code",
   "execution_count": null,
   "metadata": {
    "collapsed": true
   },
   "outputs": [],
   "source": []
  }
 ],
 "metadata": {
  "kernelspec": {
   "display_name": "Python 2",
   "language": "python",
   "name": "python2"
  },
  "language_info": {
   "codemirror_mode": {
    "name": "ipython",
    "version": 2
   },
   "file_extension": ".py",
   "mimetype": "text/x-python",
   "name": "python",
   "nbconvert_exporter": "python",
   "pygments_lexer": "ipython2",
   "version": "2.7.12"
  }
 },
 "nbformat": 4,
 "nbformat_minor": 2
}
