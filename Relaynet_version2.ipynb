{
 "cells": [
  {
   "cell_type": "code",
   "execution_count": 1,
   "metadata": {},
   "outputs": [
    {
     "name": "stderr",
     "output_type": "stream",
     "text": [
      "Using TensorFlow backend.\n"
     ]
    }
   ],
   "source": [
    "import keras\n",
    "from keras.layers import Activation\n",
    "from keras.layers import Conv2D, MaxPooling2D\n",
    "from keras.models import Model\n",
    "from keras.layers import Input\n",
    "from keras.layers import BatchNormalization\n",
    "from keras.layers import UpSampling2D\n",
    "from keras.layers import Concatenate\n",
    "from keras.layers import Lambda \n",
    "from keras.layers import Reshape\n",
    "import tensorflow as tf\n",
    "\n",
    "from keras import regularizers, optimizers\n",
    "\n",
    "from keras import backend as K\n",
    "from keras.preprocessing.image import ImageDataGenerator"
   ]
  },
  {
   "cell_type": "code",
   "execution_count": 2,
   "metadata": {
    "collapsed": true
   },
   "outputs": [],
   "source": [
    "import scipy.io as scio\n",
    "import numpy as np    \n",
    "import os\n",
    "import matplotlib.pyplot as plt\n",
    "from scipy.misc import imsave\n",
    "from scipy import ndimage, misc\n",
    "from numpy import unravel_index\n",
    "from operator import sub"
   ]
  },
  {
   "cell_type": "code",
   "execution_count": 3,
   "metadata": {
    "collapsed": true
   },
   "outputs": [],
   "source": [
    "from keras.callbacks import ReduceLROnPlateau, CSVLogger,EarlyStopping\n"
   ]
  },
  {
   "cell_type": "code",
   "execution_count": 4,
   "metadata": {
    "collapsed": true
   },
   "outputs": [],
   "source": [
    "images = []\n",
    "for root, dirnames, filenames in os.walk(\"Dataset/Train_images/\"):\n",
    "    for filename in filenames:\n",
    "        filepath = os.path.join(root, filename)\n",
    "        image = ndimage.imread(filepath, mode=\"L\")\n",
    "        images.append(image)"
   ]
  },
  {
   "cell_type": "code",
   "execution_count": 5,
   "metadata": {},
   "outputs": [
    {
     "name": "stdout",
     "output_type": "stream",
     "text": [
      "(496, 64)\n"
     ]
    }
   ],
   "source": [
    "print (images[0].shape)"
   ]
  },
  {
   "cell_type": "code",
   "execution_count": 6,
   "metadata": {
    "collapsed": true
   },
   "outputs": [],
   "source": [
    "labels = np.load('train_labels.npy')\n",
    "labels_list = []\n",
    "for i in range(len(labels)):\n",
    "    labels_list.append(labels[i])"
   ]
  },
  {
   "cell_type": "code",
   "execution_count": 7,
   "metadata": {},
   "outputs": [
    {
     "data": {
      "text/plain": [
       "(496, 64, 8)"
      ]
     },
     "execution_count": 7,
     "metadata": {},
     "output_type": "execute_result"
    }
   ],
   "source": [
    "labels_list[0].shape"
   ]
  },
  {
   "cell_type": "code",
   "execution_count": 8,
   "metadata": {},
   "outputs": [
    {
     "name": "stdout",
     "output_type": "stream",
     "text": [
      "770\n",
      "<type 'numpy.ndarray'>\n",
      "770\n",
      "(496, 64, 1)\n",
      "[0, 1, 2, 3, 4, 5, 6, 7, 8, 9, 10, 11, 12, 13, 14, 15, 16, 17, 18, 19, 20, 21, 22, 23, 24, 25, 26, 27, 28, 29, 30, 31, 32, 33, 34, 35, 36, 37, 38, 39, 40, 41, 42, 43, 44, 45, 46, 47, 48, 49, 50, 51, 52, 53, 54, 55, 56, 57, 58, 59, 60, 61, 62, 63, 64, 65, 66, 67, 68, 69, 70, 71, 72, 73, 74, 75, 76, 77, 78, 79, 80, 81, 82, 83, 84, 85, 86, 87, 88, 89, 90, 91, 92, 93, 94, 95, 96, 97, 98, 99, 100, 102, 104, 105, 106, 107, 108, 109, 110, 111, 112, 113, 114, 115, 116, 117, 118, 119, 120, 121, 122, 123, 124, 125, 126, 127, 128, 129, 130, 131, 132, 133, 134, 135, 136, 137, 138, 139, 140, 141, 142, 143, 144, 145, 146, 147, 148, 149, 150, 151, 152, 153, 154, 155, 156, 157, 158, 159, 160, 161, 162, 163, 164, 165, 166, 167, 168, 169, 170, 171, 172, 173, 174, 175, 176, 177, 178, 179, 180, 181, 182, 183, 184, 185, 186, 187, 188, 189, 190, 191, 192, 193, 195, 196, 197, 198, 199, 200, 201, 202, 203, 204, 205, 206, 207, 208, 209, 210, 211, 212, 213, 214, 215, 216, 217, 218, 219, 220, 221, 222, 223, 224, 225, 226, 227, 228, 229, 230, 231, 232, 233, 234, 235, 236, 237, 238, 239, 240, 241, 242, 243, 244, 245, 246, 247, 248, 249, 250, 251, 252, 254, 255, 256, 257, 258, 259, 260, 261, 262, 263, 264, 265, 266, 267, 268, 269, 270, 271, 272, 273, 274, 275, 276, 277, 278, 279, 280, 281, 282, 283, 284, 285, 286, 287, 288, 289, 290, 291, 292, 293, 294, 295, 296, 297, 298, 299, 300, 301, 302, 303, 304, 305, 306, 307, 308, 309, 310, 311, 312, 313, 314, 315, 316, 317, 318, 319, 320, 321, 322, 324, 325, 326, 327, 329, 330, 331, 332, 333, 334, 335, 336, 337, 338, 339, 340, 341, 342, 343, 344, 345, 346, 347, 348, 349, 350, 351, 352, 353, 354, 355, 356, 357, 358, 359, 360, 361, 362, 363, 364, 365, 366, 367, 368, 370, 371, 372, 373, 374, 375, 376, 377, 378, 379, 380, 381, 382, 383, 384, 385, 386, 387, 388, 389, 390, 391, 392, 393, 394, 395, 396, 397, 398, 399, 400, 401, 402, 403, 404, 406, 407, 408, 409, 410, 411, 412, 413, 414, 415, 416, 417, 418, 419, 420, 421, 422, 423, 424, 425, 426, 427, 428, 429, 430, 431, 432, 433, 434, 435, 436, 437, 438, 439, 440, 441, 442, 443, 444, 445, 446, 447, 448, 449, 450, 451, 452, 453, 454, 455, 456, 457, 458, 459, 461, 462, 463, 464, 465, 466, 467, 468, 469, 470, 471, 472, 473, 474, 475, 476, 477, 478, 479, 480, 481, 483, 484, 485, 486, 487, 488, 489, 491, 492, 493, 494, 495, 496, 498, 499, 500, 501, 502, 503, 504, 505, 506, 507, 508, 509, 510, 511, 512, 513, 514, 515, 516, 517, 518, 519, 521, 522, 523, 524, 526, 527, 528, 529, 530, 531, 532, 533, 534, 535, 536, 537, 538, 539, 540, 541, 542, 543, 544, 545, 546, 547, 548, 549, 550, 551, 552, 553, 554, 555, 556, 557, 558, 559, 560, 561, 562, 563, 564, 565, 566, 567, 568, 569, 570, 571, 572, 573, 574, 575, 576, 577, 578, 579, 580, 581, 582, 583, 584, 585, 586, 587, 588, 589, 590, 591, 592, 593, 594, 595, 596, 597, 598, 599, 600, 601, 602, 603, 604, 605, 606, 607, 608, 609, 610, 611, 612, 613, 614, 615, 616, 617, 618, 619, 620, 621, 622, 623, 624, 625, 626, 627, 628, 629, 630, 631, 632, 633, 634, 635, 636, 637, 638, 639, 640, 641, 642, 643, 644, 645, 646, 647, 648, 649, 650, 651, 652, 653, 654, 655, 656, 657, 658, 659, 660, 661, 662, 663, 664, 665, 667, 668, 669, 670, 671, 672, 673, 674, 675, 676, 677, 678, 679, 680, 681, 682, 683, 684, 685, 686, 687, 688, 689, 690, 691, 692, 693, 695, 696, 697, 698, 699, 700, 701, 703, 704, 705, 706, 707, 708, 709, 710, 711, 712, 713, 714, 715, 716, 717, 718, 719, 720, 721, 722, 723, 724, 725, 727, 728, 729, 730, 731, 732, 733, 734, 735, 736, 737, 738, 739, 740, 741, 742, 743, 744, 745, 746, 747, 748, 749, 750, 751, 753, 754, 755, 756, 757, 758, 759, 760, 761, 762, 763, 764, 765, 766, 768, 769]\n",
      "[101, 103, 194, 253, 323, 328, 369, 405, 460, 482, 490, 497, 520, 525, 666, 694, 702, 726, 752, 767]\n"
     ]
    }
   ],
   "source": [
    "print (len(labels_list))\n",
    "print (type(labels_list[0]))\n",
    "\n",
    "images=np.array(images)\n",
    "print(images.shape[0])\n",
    "images = images.reshape(images.shape[0],496,64,1)\n",
    "\n",
    "#Increased the Size of training data\n",
    "print(images[0].shape)\n",
    "train_indices = np.random.choice(770,750,replace = False)\n",
    "print(sorted(train_indices))\n",
    "train_images = []\n",
    "train_labels = [] \n",
    "for i in train_indices:\n",
    "    train_images.append(images[i])\n",
    "    train_labels.append(labels_list[i])\n",
    "\n",
    "test_indices = [x for x in range(770) if x not in train_indices]\n",
    "print(test_indices)\n",
    "test_images = []\n",
    "test_labels = []\n",
    "#Corrected the varaible name\n",
    "for i in test_indices:\n",
    "    test_images.append(images[i])\n",
    "    test_labels.append(labels_list[i])"
   ]
  },
  {
   "cell_type": "code",
   "execution_count": 9,
   "metadata": {},
   "outputs": [
    {
     "name": "stdout",
     "output_type": "stream",
     "text": [
      "750\n",
      "750\n",
      "(750, 496, 64, 8)\n"
     ]
    }
   ],
   "source": [
    "print (len(train_images))\n",
    "print (len(train_labels))\n",
    "print (np.array(train_labels).shape)"
   ]
  },
  {
   "cell_type": "code",
   "execution_count": 10,
   "metadata": {
    "collapsed": true
   },
   "outputs": [],
   "source": [
    "train_images = np.array(train_images)\n",
    "test_images = np.array(test_images)"
   ]
  },
  {
   "cell_type": "code",
   "execution_count": 11,
   "metadata": {
    "collapsed": true
   },
   "outputs": [],
   "source": [
    "mean = np.mean(train_images,axis=(0,1,2,3))\n",
    "std = np.std(train_images,axis=(0,1,2,3))\n",
    "train_images = (train_images-mean)/(std+1e-7)\n",
    "test_images = (test_images-mean)/(std+1e-7)"
   ]
  },
  {
   "cell_type": "code",
   "execution_count": 12,
   "metadata": {},
   "outputs": [
    {
     "data": {
      "text/plain": [
       "(750, 496, 64, 8)"
      ]
     },
     "execution_count": 12,
     "metadata": {},
     "output_type": "execute_result"
    }
   ],
   "source": [
    "train_labels = np.array(train_labels)\n",
    "train_labels.shape"
   ]
  },
  {
   "cell_type": "code",
   "execution_count": 13,
   "metadata": {},
   "outputs": [
    {
     "data": {
      "text/plain": [
       "(20, 496, 64, 8)"
      ]
     },
     "execution_count": 13,
     "metadata": {},
     "output_type": "execute_result"
    }
   ],
   "source": [
    "test_labels = np.array(test_labels)\n",
    "test_labels.shape"
   ]
  },
  {
   "cell_type": "code",
   "execution_count": 14,
   "metadata": {
    "collapsed": true
   },
   "outputs": [],
   "source": [
    "data_shape = 496*64"
   ]
  },
  {
   "cell_type": "code",
   "execution_count": 17,
   "metadata": {},
   "outputs": [
    {
     "data": {
      "text/plain": [
       "(750, 31744, 8)"
      ]
     },
     "execution_count": 17,
     "metadata": {},
     "output_type": "execute_result"
    }
   ],
   "source": [
    "train_labels = np.reshape(train_labels,(750,data_shape,8))\n",
    "train_labels.shape"
   ]
  },
  {
   "cell_type": "code",
   "execution_count": 18,
   "metadata": {},
   "outputs": [
    {
     "data": {
      "text/plain": [
       "(20, 31744, 8)"
      ]
     },
     "execution_count": 18,
     "metadata": {},
     "output_type": "execute_result"
    }
   ],
   "source": [
    "#Modified the testing labels shape\n",
    "test_labels = np.reshape(test_labels,(20,data_shape,8))\n",
    "test_labels.shape"
   ]
  },
  {
   "cell_type": "code",
   "execution_count": 19,
   "metadata": {
    "collapsed": true
   },
   "outputs": [],
   "source": [
    "double_layers = True"
   ]
  },
  {
   "cell_type": "code",
   "execution_count": 20,
   "metadata": {
    "collapsed": true
   },
   "outputs": [],
   "source": [
    "weight_decay = 1e-4"
   ]
  },
  {
   "cell_type": "code",
   "execution_count": 21,
   "metadata": {},
   "outputs": [
    {
     "name": "stdout",
     "output_type": "stream",
     "text": [
      "____________________________________________________________________________________________________\n",
      "Layer (type)                     Output Shape          Param #     Connected to                     \n",
      "====================================================================================================\n",
      "input_1 (InputLayer)             (None, 496, 64, 1)    0                                            \n",
      "____________________________________________________________________________________________________\n",
      "conv2d_1 (Conv2D)                (None, 496, 64, 64)   640         input_1[0][0]                    \n",
      "____________________________________________________________________________________________________\n",
      "batch_normalization_1 (BatchNorm (None, 496, 64, 64)   256         conv2d_1[0][0]                   \n",
      "____________________________________________________________________________________________________\n",
      "conv2d_2 (Conv2D)                (None, 496, 64, 64)   36928       batch_normalization_1[0][0]      \n",
      "____________________________________________________________________________________________________\n",
      "batch_normalization_2 (BatchNorm (None, 496, 64, 64)   256         conv2d_2[0][0]                   \n",
      "____________________________________________________________________________________________________\n",
      "max_pooling2d_1 (MaxPooling2D)   (None, 248, 32, 64)   0           batch_normalization_2[0][0]      \n",
      "____________________________________________________________________________________________________\n",
      "conv2d_3 (Conv2D)                (None, 248, 32, 64)   36928       max_pooling2d_1[0][0]            \n",
      "____________________________________________________________________________________________________\n",
      "batch_normalization_3 (BatchNorm (None, 248, 32, 64)   256         conv2d_3[0][0]                   \n",
      "____________________________________________________________________________________________________\n",
      "conv2d_4 (Conv2D)                (None, 248, 32, 64)   36928       batch_normalization_3[0][0]      \n",
      "____________________________________________________________________________________________________\n",
      "batch_normalization_4 (BatchNorm (None, 248, 32, 64)   256         conv2d_4[0][0]                   \n",
      "____________________________________________________________________________________________________\n",
      "max_pooling2d_2 (MaxPooling2D)   (None, 124, 16, 64)   0           batch_normalization_4[0][0]      \n",
      "____________________________________________________________________________________________________\n",
      "conv2d_5 (Conv2D)                (None, 124, 16, 64)   36928       max_pooling2d_2[0][0]            \n",
      "____________________________________________________________________________________________________\n",
      "batch_normalization_5 (BatchNorm (None, 124, 16, 64)   256         conv2d_5[0][0]                   \n",
      "____________________________________________________________________________________________________\n",
      "conv2d_6 (Conv2D)                (None, 124, 16, 64)   36928       batch_normalization_5[0][0]      \n",
      "____________________________________________________________________________________________________\n",
      "batch_normalization_6 (BatchNorm (None, 124, 16, 64)   256         conv2d_6[0][0]                   \n",
      "____________________________________________________________________________________________________\n",
      "max_pooling2d_3 (MaxPooling2D)   (None, 62, 8, 64)     0           batch_normalization_6[0][0]      \n",
      "____________________________________________________________________________________________________\n",
      "conv2d_7 (Conv2D)                (None, 62, 8, 64)     36928       max_pooling2d_3[0][0]            \n",
      "____________________________________________________________________________________________________\n",
      "batch_normalization_7 (BatchNorm (None, 62, 8, 64)     256         conv2d_7[0][0]                   \n",
      "____________________________________________________________________________________________________\n",
      "conv2d_8 (Conv2D)                (None, 62, 8, 64)     36928       batch_normalization_7[0][0]      \n",
      "____________________________________________________________________________________________________\n",
      "batch_normalization_8 (BatchNorm (None, 62, 8, 64)     256         conv2d_8[0][0]                   \n",
      "____________________________________________________________________________________________________\n",
      "up_sampling2d_1 (UpSampling2D)   (None, 124, 16, 64)   0           batch_normalization_8[0][0]      \n",
      "____________________________________________________________________________________________________\n",
      "concatenate_1 (Concatenate)      (None, 124, 16, 128)  0           up_sampling2d_1[0][0]            \n",
      "                                                                   batch_normalization_6[0][0]      \n",
      "____________________________________________________________________________________________________\n",
      "conv2d_9 (Conv2D)                (None, 124, 16, 64)   73792       concatenate_1[0][0]              \n",
      "____________________________________________________________________________________________________\n",
      "batch_normalization_9 (BatchNorm (None, 124, 16, 64)   256         conv2d_9[0][0]                   \n",
      "____________________________________________________________________________________________________\n",
      "conv2d_10 (Conv2D)               (None, 124, 16, 64)   36928       batch_normalization_9[0][0]      \n",
      "____________________________________________________________________________________________________\n",
      "batch_normalization_10 (BatchNor (None, 124, 16, 64)   256         conv2d_10[0][0]                  \n",
      "____________________________________________________________________________________________________\n",
      "up_sampling2d_2 (UpSampling2D)   (None, 248, 32, 64)   0           batch_normalization_10[0][0]     \n",
      "____________________________________________________________________________________________________\n",
      "concatenate_2 (Concatenate)      (None, 248, 32, 128)  0           up_sampling2d_2[0][0]            \n",
      "                                                                   batch_normalization_4[0][0]      \n",
      "____________________________________________________________________________________________________\n",
      "conv2d_11 (Conv2D)               (None, 248, 32, 64)   73792       concatenate_2[0][0]              \n",
      "____________________________________________________________________________________________________\n",
      "batch_normalization_11 (BatchNor (None, 248, 32, 64)   256         conv2d_11[0][0]                  \n",
      "____________________________________________________________________________________________________\n",
      "conv2d_12 (Conv2D)               (None, 248, 32, 64)   36928       batch_normalization_11[0][0]     \n",
      "____________________________________________________________________________________________________\n",
      "batch_normalization_12 (BatchNor (None, 248, 32, 64)   256         conv2d_12[0][0]                  \n",
      "____________________________________________________________________________________________________\n",
      "up_sampling2d_3 (UpSampling2D)   (None, 496, 64, 64)   0           batch_normalization_12[0][0]     \n",
      "____________________________________________________________________________________________________\n",
      "concatenate_3 (Concatenate)      (None, 496, 64, 128)  0           up_sampling2d_3[0][0]            \n",
      "                                                                   batch_normalization_2[0][0]      \n",
      "____________________________________________________________________________________________________\n",
      "conv2d_13 (Conv2D)               (None, 496, 64, 64)   73792       concatenate_3[0][0]              \n",
      "____________________________________________________________________________________________________\n",
      "batch_normalization_13 (BatchNor (None, 496, 64, 64)   256         conv2d_13[0][0]                  \n",
      "____________________________________________________________________________________________________\n",
      "conv2d_14 (Conv2D)               (None, 496, 64, 64)   36928       batch_normalization_13[0][0]     \n",
      "____________________________________________________________________________________________________\n",
      "batch_normalization_14 (BatchNor (None, 496, 64, 64)   256         conv2d_14[0][0]                  \n",
      "____________________________________________________________________________________________________\n",
      "conv2d_15 (Conv2D)               (None, 496, 64, 8)    520         batch_normalization_14[0][0]     \n",
      "____________________________________________________________________________________________________\n",
      "reshape_1 (Reshape)              (None, 31744, 8)      0           conv2d_15[0][0]                  \n",
      "____________________________________________________________________________________________________\n",
      "activation_1 (Activation)        (None, 31744, 8)      0           reshape_1[0][0]                  \n",
      "====================================================================================================\n",
      "Total params: 595,400\n",
      "Trainable params: 593,608\n",
      "Non-trainable params: 1,792\n",
      "____________________________________________________________________________________________________\n"
     ]
    }
   ],
   "source": [
    "\n",
    "if double_layers :\n",
    "    # Defines the input tensor\n",
    "    inputs = Input(shape=(496,64,1))\n",
    "\n",
    "    #Down Sampling Block1\n",
    "    L = Conv2D(64,kernel_size=(3,3),activation = 'relu',padding = \"same\",\n",
    "               kernel_regularizer=regularizers.l2(weight_decay))(inputs)\n",
    "    L = BatchNormalization()(L)\n",
    "    L = Conv2D(64,kernel_size=(3,3),activation = 'relu',padding = \"same\",\n",
    "               kernel_regularizer=regularizers.l2(weight_decay))(L)\n",
    "    L1 = BatchNormalization()(L)\n",
    "    L = MaxPooling2D(pool_size=(2,2))(L1)\n",
    "    \n",
    "    #Down Sampling Block2\n",
    "    L = Conv2D(64,kernel_size=(3,3),activation = 'relu',padding = \"same\",\n",
    "               kernel_regularizer=regularizers.l2(weight_decay))(L)\n",
    "    L = BatchNormalization()(L)\n",
    "    L = Conv2D(64,kernel_size=(3,3),activation = 'relu',padding = \"same\",\n",
    "               kernel_regularizer=regularizers.l2(weight_decay))(L)\n",
    "    L2 = BatchNormalization()(L)\n",
    "    L = MaxPooling2D(pool_size=(2,2))(L2)\n",
    "    \n",
    "    #Down Sampling Block3\n",
    "    L = Conv2D(64,kernel_size=(3,3),activation = 'relu',padding = \"same\",\n",
    "               kernel_regularizer=regularizers.l2(weight_decay))(L)\n",
    "    L = BatchNormalization()(L)\n",
    "    L = Conv2D(64,kernel_size=(3,3),activation = 'relu',padding = \"same\",\n",
    "               kernel_regularizer=regularizers.l2(weight_decay))(L)\n",
    "    L3 = BatchNormalization()(L)\n",
    "    L = MaxPooling2D(pool_size=(2,2))(L3)\n",
    "    \n",
    "    \n",
    "    #Up Sampling Block1\n",
    "    L = Conv2D(64,kernel_size=(3,3),activation = 'relu',padding = \"same\",\n",
    "               kernel_regularizer=regularizers.l2(weight_decay))(L)\n",
    "    L = BatchNormalization()(L)\n",
    "    L = Conv2D(64,kernel_size=(3,3),activation = 'relu',padding = \"same\",\n",
    "               kernel_regularizer=regularizers.l2(weight_decay))(L)\n",
    "    L = BatchNormalization()(L)\n",
    "    L = UpSampling2D(size = (2,2))(L)\n",
    "    \n",
    "    #Skip Connection 1\n",
    "    L = Concatenate(axis=3)([L,L3])\n",
    "    \n",
    "    #UpSampling Block2\n",
    "    L = Conv2D(64,kernel_size=(3,3),activation = 'relu',padding = \"same\",\n",
    "               kernel_regularizer=regularizers.l2(weight_decay))(L)\n",
    "    L = BatchNormalization()(L)\n",
    "    L = Conv2D(64,kernel_size=(3,3),activation = 'relu',padding = \"same\",\n",
    "               kernel_regularizer=regularizers.l2(weight_decay))(L)\n",
    "    L = BatchNormalization()(L)\n",
    "    L = UpSampling2D(size = (2,2))(L)\n",
    "    \n",
    "    #Skip Connection 2\n",
    "    L = Concatenate(axis=3)([L,L2])\n",
    "    \n",
    "    #Up Sampling Block3\n",
    "    L = Conv2D(64,kernel_size=(3,3),activation = 'relu',padding = \"same\",\n",
    "               kernel_regularizer=regularizers.l2(weight_decay))(L)\n",
    "    L = BatchNormalization()(L)\n",
    "    L = Conv2D(64,kernel_size=(3,3),activation = 'relu',padding = \"same\",\n",
    "               kernel_regularizer=regularizers.l2(weight_decay))(L)\n",
    "    L = BatchNormalization()(L)\n",
    "    L = UpSampling2D(size = (2,2))(L)\n",
    "    \n",
    "    #Skip Connection 3\n",
    "    L = Concatenate(axis = 3)([L,L1])\n",
    "    \n",
    "    \n",
    "    #Final Conv Block\n",
    "    L = Conv2D(64,kernel_size=(3,3),activation = 'relu',padding = \"same\",\n",
    "               kernel_regularizer=regularizers.l2(weight_decay))(L)\n",
    "    L = BatchNormalization()(L)\n",
    "    L = Conv2D(64,kernel_size=(3,3),activation = 'relu',padding = \"same\",\n",
    "               kernel_regularizer=regularizers.l2(weight_decay))(L)\n",
    "    L = BatchNormalization()(L)\n",
    "    \n",
    "    #Classifier Block\n",
    "    L = Conv2D(8,kernel_size=(1,1),padding = \"same\")(L)\n",
    "    L = Reshape((data_shape,8),input_shape = (496,64,8))(L)\n",
    "    L = Activation('softmax')(L)\n",
    "\n",
    "    #Returning Model\n",
    "    model = Model(inputs = inputs, outputs = L)\n",
    "    model.summary()\n"
   ]
  },
  {
   "cell_type": "code",
   "execution_count": 22,
   "metadata": {
    "collapsed": true
   },
   "outputs": [],
   "source": [
    "smooth = 1"
   ]
  },
  {
   "cell_type": "code",
   "execution_count": 23,
   "metadata": {
    "collapsed": true
   },
   "outputs": [],
   "source": [
    "class_weighting = [1.0,25.0000,25.00000000,25.00000000,25.0000,25.000,25.00,25.00]"
   ]
  },
  {
   "cell_type": "code",
   "execution_count": 24,
   "metadata": {
    "collapsed": true
   },
   "outputs": [],
   "source": [
    "#Defining Callback functions which will be called by model during runtime when specified condition satisfies\n",
    "lr_reducer = ReduceLROnPlateau(factor=np.sqrt(0.1), cooldown=0, patience=2, min_lr=0.5e-6)\n",
    "csv_logger = CSVLogger('./small_double_filter.csv')\n",
    "early_stopper = EarlyStopping(min_delta=0.001, patience=2)"
   ]
  },
  {
   "cell_type": "code",
   "execution_count": 25,
   "metadata": {
    "collapsed": true
   },
   "outputs": [],
   "source": [
    "def dice_coef(y_true, y_pred):\n",
    "    y_true_f = K.flatten(y_true)\n",
    "    y_pred_f = K.flatten(y_pred)\n",
    "    intersection = K.sum(y_true_f * y_pred_f)\n",
    "    \n",
    "    return (2. * intersection + smooth) / (K.sum(y_true_f) + K.sum(y_pred_f) + smooth)"
   ]
  },
  {
   "cell_type": "code",
   "execution_count": 26,
   "metadata": {
    "collapsed": true
   },
   "outputs": [],
   "source": [
    "def dice_coef_loss(y_true, y_pred):\n",
    "    return -dice_coef(y_true, y_pred)"
   ]
  },
  {
   "cell_type": "code",
   "execution_count": 27,
   "metadata": {
    "collapsed": true
   },
   "outputs": [],
   "source": [
    "model.compile(optimizer='Adam',loss='categorical_crossentropy',metrics=['accuracy',dice_coef])"
   ]
  },
  {
   "cell_type": "code",
   "execution_count": 28,
   "metadata": {
    "collapsed": true
   },
   "outputs": [],
   "source": [
    "data_augmentation = True"
   ]
  },
  {
   "cell_type": "code",
   "execution_count": null,
   "metadata": {},
   "outputs": [
    {
     "name": "stdout",
     "output_type": "stream",
     "text": [
      "-------------Using Data augmentation------------\n",
      "Epoch 1/10\n",
      "46/46 [==============================] - 1793s - loss: 1.8229 - acc: 0.6877 - dice_coef: 0.3249 - val_loss: 1.2368 - val_acc: 0.8270 - val_dice_coef: 0.3596\n",
      "Epoch 2/10\n",
      " 8/46 [====>.........................] - ETA: 1403s - loss: 1.3999 - acc: 0.7636 - dice_coef: 0.4294"
     ]
    }
   ],
   "source": [
    "if data_augmentation :\n",
    "    print(\"-------------Using Data augmentation------------\")\n",
    "     # This will do preprocessing and realtime data augmentation:\n",
    "    datagen = ImageDataGenerator(\n",
    "        featurewise_center=False,  # set input mean to 0 over the dataset\n",
    "        samplewise_center=False,  # set each sample mean to 0\n",
    "        featurewise_std_normalization=False,  # divide inputs by std of the dataset\n",
    "        samplewise_std_normalization=False,  # divide each input by its std\n",
    "        zca_whitening=False,  # apply ZCA whitening\n",
    "        rotation_range=0,  # randomly rotate images in the range (degrees, 0 to 180)\n",
    "        width_shift_range=0.1,  # randomly shift images horizontally (fraction of total width)\n",
    "        height_shift_range=0.1,  # randomly shift images vertically (fraction of total height)\n",
    "        horizontal_flip=True,  # randomly flip images\n",
    "        vertical_flip=False)  # randomly flip images\n",
    "    \n",
    "    datagen.fit(train_images)\n",
    "    model.fit_generator(datagen.flow(train_images, train_labels, batch_size=16),\n",
    "                        steps_per_epoch=train_images.shape[0] // 16,\n",
    "                        epochs=10,verbose=1,validation_data=(test_images,test_labels),callbacks=[lr_reducer, early_stopper, csv_logger])\n",
    "else :\n",
    "    model.fit(train_images,train_labels,batch_size=16,epochs=10,validation_data=(test_images,test_labels),class_weight=class_weighting,callbacks=[lr_reducer, early_stopper, csv_logger])"
   ]
  },
  {
   "cell_type": "code",
   "execution_count": null,
   "metadata": {
    "collapsed": true
   },
   "outputs": [],
   "source": []
  }
 ],
 "metadata": {
  "kernelspec": {
   "display_name": "Python 2",
   "language": "python",
   "name": "python2"
  },
  "language_info": {
   "codemirror_mode": {
    "name": "ipython",
    "version": 2
   },
   "file_extension": ".py",
   "mimetype": "text/x-python",
   "name": "python",
   "nbconvert_exporter": "python",
   "pygments_lexer": "ipython2",
   "version": "2.7.12"
  }
 },
 "nbformat": 4,
 "nbformat_minor": 2
}
